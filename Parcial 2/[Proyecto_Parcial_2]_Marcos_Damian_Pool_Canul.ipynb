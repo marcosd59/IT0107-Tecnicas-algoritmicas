{
  "cells": [
    {
      "cell_type": "markdown",
      "source": [
        "# **[Proyecto Parcial 2] - Marcos Damian Pool Canul.ipynb**"
      ],
      "metadata": {
        "id": "AX00SKXUlUdQ"
      }
    },
    {
      "cell_type": "markdown",
      "source": [
        "Importamos todas las librerias que nos seran utilies para realizar este proyecto. Usamos la libreria **Sklearn** que nos servira para la validacion cruzada, kneighbors, regresion logistica, ramdom forest, adaboost, matrix de confusion, etc.  "
      ],
      "metadata": {
        "id": "77dJywx48y3j"
      }
    },
    {
      "cell_type": "code",
      "execution_count": 550,
      "metadata": {
        "id": "jbGoWdBA3UOx"
      },
      "outputs": [],
      "source": [
        "%matplotlib inline\n",
        "import numpy as np\n",
        "import pandas as pd\n",
        "import seaborn as sns\n",
        "import itertools as it\n",
        "import matplotlib.pyplot as plt\n",
        "from sklearn.model_selection import train_test_split,KFold,cross_val_score,GridSearchCV\n",
        "from sklearn.ensemble import RandomForestRegressor,RandomForestClassifier\n",
        "from sklearn.ensemble import AdaBoostClassifier \n",
        "from sklearn.preprocessing import StandardScaler\n",
        "from sklearn.neighbors import KNeighborsClassifier\n",
        "from sklearn.metrics import confusion_matrix\n",
        "from sklearn.metrics import f1_score\n",
        "from sklearn.linear_model import LogisticRegression\n",
        "from sklearn import preprocessing\n",
        "from statistics import StatisticsError\n",
        "from statistics import mode"
      ]
    },
    {
      "cell_type": "markdown",
      "source": [
        "Leemos los datos del archivo csv llamado \"DatosKarenApp.csv\" y los mostramos en pantalla."
      ],
      "metadata": {
        "id": "6Y_FckuD9jTN"
      }
    },
    {
      "cell_type": "code",
      "execution_count": 551,
      "metadata": {
        "colab": {
          "base_uri": "https://localhost:8080/",
          "height": 206
        },
        "id": "ghfgfhbu5OYk",
        "outputId": "dccf5002-95e2-4652-b5f9-84e3df322cfe"
      },
      "outputs": [
        {
          "output_type": "execute_result",
          "data": {
            "text/plain": [
              "   Unnamed: 0  Alert     IQR    Kurto    Entro     Skewn    Sex  Comp  Picos  \\\n",
              "0           1  False  2.6938  1.73447  1.76160  0.140613  Mujer  Slim      0   \n",
              "1           2  False  2.5478  2.08198  1.71931  0.104144  Mujer  Slim      0   \n",
              "2           3  False  2.5754  3.82861  1.53336  0.687755  Mujer  Slim      2   \n",
              "3           4  False  2.5976  1.97106  1.74680 -0.076770  Mujer  Slim      1   \n",
              "4           5  False  2.5725  1.94219  1.73949  0.130674  Mujer  Slim      0   \n",
              "\n",
              "   Umbral  Gama  \n",
              "0  15.708  Alta  \n",
              "1  15.861  Alta  \n",
              "2  17.283  Alta  \n",
              "3  17.490  Alta  \n",
              "4  15.621  Alta  "
            ],
            "text/html": [
              "\n",
              "  <div id=\"df-d9fbc809-1c1e-42d7-8417-7137ad0ee0ea\">\n",
              "    <div class=\"colab-df-container\">\n",
              "      <div>\n",
              "<style scoped>\n",
              "    .dataframe tbody tr th:only-of-type {\n",
              "        vertical-align: middle;\n",
              "    }\n",
              "\n",
              "    .dataframe tbody tr th {\n",
              "        vertical-align: top;\n",
              "    }\n",
              "\n",
              "    .dataframe thead th {\n",
              "        text-align: right;\n",
              "    }\n",
              "</style>\n",
              "<table border=\"1\" class=\"dataframe\">\n",
              "  <thead>\n",
              "    <tr style=\"text-align: right;\">\n",
              "      <th></th>\n",
              "      <th>Unnamed: 0</th>\n",
              "      <th>Alert</th>\n",
              "      <th>IQR</th>\n",
              "      <th>Kurto</th>\n",
              "      <th>Entro</th>\n",
              "      <th>Skewn</th>\n",
              "      <th>Sex</th>\n",
              "      <th>Comp</th>\n",
              "      <th>Picos</th>\n",
              "      <th>Umbral</th>\n",
              "      <th>Gama</th>\n",
              "    </tr>\n",
              "  </thead>\n",
              "  <tbody>\n",
              "    <tr>\n",
              "      <th>0</th>\n",
              "      <td>1</td>\n",
              "      <td>False</td>\n",
              "      <td>2.6938</td>\n",
              "      <td>1.73447</td>\n",
              "      <td>1.76160</td>\n",
              "      <td>0.140613</td>\n",
              "      <td>Mujer</td>\n",
              "      <td>Slim</td>\n",
              "      <td>0</td>\n",
              "      <td>15.708</td>\n",
              "      <td>Alta</td>\n",
              "    </tr>\n",
              "    <tr>\n",
              "      <th>1</th>\n",
              "      <td>2</td>\n",
              "      <td>False</td>\n",
              "      <td>2.5478</td>\n",
              "      <td>2.08198</td>\n",
              "      <td>1.71931</td>\n",
              "      <td>0.104144</td>\n",
              "      <td>Mujer</td>\n",
              "      <td>Slim</td>\n",
              "      <td>0</td>\n",
              "      <td>15.861</td>\n",
              "      <td>Alta</td>\n",
              "    </tr>\n",
              "    <tr>\n",
              "      <th>2</th>\n",
              "      <td>3</td>\n",
              "      <td>False</td>\n",
              "      <td>2.5754</td>\n",
              "      <td>3.82861</td>\n",
              "      <td>1.53336</td>\n",
              "      <td>0.687755</td>\n",
              "      <td>Mujer</td>\n",
              "      <td>Slim</td>\n",
              "      <td>2</td>\n",
              "      <td>17.283</td>\n",
              "      <td>Alta</td>\n",
              "    </tr>\n",
              "    <tr>\n",
              "      <th>3</th>\n",
              "      <td>4</td>\n",
              "      <td>False</td>\n",
              "      <td>2.5976</td>\n",
              "      <td>1.97106</td>\n",
              "      <td>1.74680</td>\n",
              "      <td>-0.076770</td>\n",
              "      <td>Mujer</td>\n",
              "      <td>Slim</td>\n",
              "      <td>1</td>\n",
              "      <td>17.490</td>\n",
              "      <td>Alta</td>\n",
              "    </tr>\n",
              "    <tr>\n",
              "      <th>4</th>\n",
              "      <td>5</td>\n",
              "      <td>False</td>\n",
              "      <td>2.5725</td>\n",
              "      <td>1.94219</td>\n",
              "      <td>1.73949</td>\n",
              "      <td>0.130674</td>\n",
              "      <td>Mujer</td>\n",
              "      <td>Slim</td>\n",
              "      <td>0</td>\n",
              "      <td>15.621</td>\n",
              "      <td>Alta</td>\n",
              "    </tr>\n",
              "  </tbody>\n",
              "</table>\n",
              "</div>\n",
              "      <button class=\"colab-df-convert\" onclick=\"convertToInteractive('df-d9fbc809-1c1e-42d7-8417-7137ad0ee0ea')\"\n",
              "              title=\"Convert this dataframe to an interactive table.\"\n",
              "              style=\"display:none;\">\n",
              "        \n",
              "  <svg xmlns=\"http://www.w3.org/2000/svg\" height=\"24px\"viewBox=\"0 0 24 24\"\n",
              "       width=\"24px\">\n",
              "    <path d=\"M0 0h24v24H0V0z\" fill=\"none\"/>\n",
              "    <path d=\"M18.56 5.44l.94 2.06.94-2.06 2.06-.94-2.06-.94-.94-2.06-.94 2.06-2.06.94zm-11 1L8.5 8.5l.94-2.06 2.06-.94-2.06-.94L8.5 2.5l-.94 2.06-2.06.94zm10 10l.94 2.06.94-2.06 2.06-.94-2.06-.94-.94-2.06-.94 2.06-2.06.94z\"/><path d=\"M17.41 7.96l-1.37-1.37c-.4-.4-.92-.59-1.43-.59-.52 0-1.04.2-1.43.59L10.3 9.45l-7.72 7.72c-.78.78-.78 2.05 0 2.83L4 21.41c.39.39.9.59 1.41.59.51 0 1.02-.2 1.41-.59l7.78-7.78 2.81-2.81c.8-.78.8-2.07 0-2.86zM5.41 20L4 18.59l7.72-7.72 1.47 1.35L5.41 20z\"/>\n",
              "  </svg>\n",
              "      </button>\n",
              "      \n",
              "  <style>\n",
              "    .colab-df-container {\n",
              "      display:flex;\n",
              "      flex-wrap:wrap;\n",
              "      gap: 12px;\n",
              "    }\n",
              "\n",
              "    .colab-df-convert {\n",
              "      background-color: #E8F0FE;\n",
              "      border: none;\n",
              "      border-radius: 50%;\n",
              "      cursor: pointer;\n",
              "      display: none;\n",
              "      fill: #1967D2;\n",
              "      height: 32px;\n",
              "      padding: 0 0 0 0;\n",
              "      width: 32px;\n",
              "    }\n",
              "\n",
              "    .colab-df-convert:hover {\n",
              "      background-color: #E2EBFA;\n",
              "      box-shadow: 0px 1px 2px rgba(60, 64, 67, 0.3), 0px 1px 3px 1px rgba(60, 64, 67, 0.15);\n",
              "      fill: #174EA6;\n",
              "    }\n",
              "\n",
              "    [theme=dark] .colab-df-convert {\n",
              "      background-color: #3B4455;\n",
              "      fill: #D2E3FC;\n",
              "    }\n",
              "\n",
              "    [theme=dark] .colab-df-convert:hover {\n",
              "      background-color: #434B5C;\n",
              "      box-shadow: 0px 1px 3px 1px rgba(0, 0, 0, 0.15);\n",
              "      filter: drop-shadow(0px 1px 2px rgba(0, 0, 0, 0.3));\n",
              "      fill: #FFFFFF;\n",
              "    }\n",
              "  </style>\n",
              "\n",
              "      <script>\n",
              "        const buttonEl =\n",
              "          document.querySelector('#df-d9fbc809-1c1e-42d7-8417-7137ad0ee0ea button.colab-df-convert');\n",
              "        buttonEl.style.display =\n",
              "          google.colab.kernel.accessAllowed ? 'block' : 'none';\n",
              "\n",
              "        async function convertToInteractive(key) {\n",
              "          const element = document.querySelector('#df-d9fbc809-1c1e-42d7-8417-7137ad0ee0ea');\n",
              "          const dataTable =\n",
              "            await google.colab.kernel.invokeFunction('convertToInteractive',\n",
              "                                                     [key], {});\n",
              "          if (!dataTable) return;\n",
              "\n",
              "          const docLinkHtml = 'Like what you see? Visit the ' +\n",
              "            '<a target=\"_blank\" href=https://colab.research.google.com/notebooks/data_table.ipynb>data table notebook</a>'\n",
              "            + ' to learn more about interactive tables.';\n",
              "          element.innerHTML = '';\n",
              "          dataTable['output_type'] = 'display_data';\n",
              "          await google.colab.output.renderOutput(dataTable, element);\n",
              "          const docLink = document.createElement('div');\n",
              "          docLink.innerHTML = docLinkHtml;\n",
              "          element.appendChild(docLink);\n",
              "        }\n",
              "      </script>\n",
              "    </div>\n",
              "  </div>\n",
              "  "
            ]
          },
          "metadata": {},
          "execution_count": 551
        }
      ],
      "source": [
        "KarenApp = pd.read_csv(\"DatosKarenApp.csv\")\n",
        "KarenApp.head()"
      ]
    },
    {
      "cell_type": "markdown",
      "source": [
        "Este es el total de datos con los que trabajaremos de ahora en adelante."
      ],
      "metadata": {
        "id": "b1ZvON52kc3l"
      }
    },
    {
      "cell_type": "code",
      "source": [
        "KarenApp.shape"
      ],
      "metadata": {
        "colab": {
          "base_uri": "https://localhost:8080/"
        },
        "id": "tj5BLZsIkJaA",
        "outputId": "a7946553-12b0-425a-faa1-68ee8f651f35"
      },
      "execution_count": 552,
      "outputs": [
        {
          "output_type": "execute_result",
          "data": {
            "text/plain": [
              "(1192, 11)"
            ]
          },
          "metadata": {},
          "execution_count": 552
        }
      ]
    },
    {
      "cell_type": "markdown",
      "source": [
        "Eliminalos la primera columna ya que no nos sirve para nada."
      ],
      "metadata": {
        "id": "7yXqZzVuksNQ"
      }
    },
    {
      "cell_type": "code",
      "source": [
        "KarenApp = KarenApp.drop(['Unnamed: 0'],axis=1)\n",
        "KarenApp.head()"
      ],
      "metadata": {
        "colab": {
          "base_uri": "https://localhost:8080/",
          "height": 206
        },
        "id": "fYnWdlmgkraj",
        "outputId": "87668bd1-bd49-4310-e10a-fbaf822e1282"
      },
      "execution_count": 553,
      "outputs": [
        {
          "output_type": "execute_result",
          "data": {
            "text/plain": [
              "   Alert     IQR    Kurto    Entro     Skewn    Sex  Comp  Picos  Umbral  Gama\n",
              "0  False  2.6938  1.73447  1.76160  0.140613  Mujer  Slim      0  15.708  Alta\n",
              "1  False  2.5478  2.08198  1.71931  0.104144  Mujer  Slim      0  15.861  Alta\n",
              "2  False  2.5754  3.82861  1.53336  0.687755  Mujer  Slim      2  17.283  Alta\n",
              "3  False  2.5976  1.97106  1.74680 -0.076770  Mujer  Slim      1  17.490  Alta\n",
              "4  False  2.5725  1.94219  1.73949  0.130674  Mujer  Slim      0  15.621  Alta"
            ],
            "text/html": [
              "\n",
              "  <div id=\"df-95e8b89d-548c-4c2d-a51d-0acfbcb00dc1\">\n",
              "    <div class=\"colab-df-container\">\n",
              "      <div>\n",
              "<style scoped>\n",
              "    .dataframe tbody tr th:only-of-type {\n",
              "        vertical-align: middle;\n",
              "    }\n",
              "\n",
              "    .dataframe tbody tr th {\n",
              "        vertical-align: top;\n",
              "    }\n",
              "\n",
              "    .dataframe thead th {\n",
              "        text-align: right;\n",
              "    }\n",
              "</style>\n",
              "<table border=\"1\" class=\"dataframe\">\n",
              "  <thead>\n",
              "    <tr style=\"text-align: right;\">\n",
              "      <th></th>\n",
              "      <th>Alert</th>\n",
              "      <th>IQR</th>\n",
              "      <th>Kurto</th>\n",
              "      <th>Entro</th>\n",
              "      <th>Skewn</th>\n",
              "      <th>Sex</th>\n",
              "      <th>Comp</th>\n",
              "      <th>Picos</th>\n",
              "      <th>Umbral</th>\n",
              "      <th>Gama</th>\n",
              "    </tr>\n",
              "  </thead>\n",
              "  <tbody>\n",
              "    <tr>\n",
              "      <th>0</th>\n",
              "      <td>False</td>\n",
              "      <td>2.6938</td>\n",
              "      <td>1.73447</td>\n",
              "      <td>1.76160</td>\n",
              "      <td>0.140613</td>\n",
              "      <td>Mujer</td>\n",
              "      <td>Slim</td>\n",
              "      <td>0</td>\n",
              "      <td>15.708</td>\n",
              "      <td>Alta</td>\n",
              "    </tr>\n",
              "    <tr>\n",
              "      <th>1</th>\n",
              "      <td>False</td>\n",
              "      <td>2.5478</td>\n",
              "      <td>2.08198</td>\n",
              "      <td>1.71931</td>\n",
              "      <td>0.104144</td>\n",
              "      <td>Mujer</td>\n",
              "      <td>Slim</td>\n",
              "      <td>0</td>\n",
              "      <td>15.861</td>\n",
              "      <td>Alta</td>\n",
              "    </tr>\n",
              "    <tr>\n",
              "      <th>2</th>\n",
              "      <td>False</td>\n",
              "      <td>2.5754</td>\n",
              "      <td>3.82861</td>\n",
              "      <td>1.53336</td>\n",
              "      <td>0.687755</td>\n",
              "      <td>Mujer</td>\n",
              "      <td>Slim</td>\n",
              "      <td>2</td>\n",
              "      <td>17.283</td>\n",
              "      <td>Alta</td>\n",
              "    </tr>\n",
              "    <tr>\n",
              "      <th>3</th>\n",
              "      <td>False</td>\n",
              "      <td>2.5976</td>\n",
              "      <td>1.97106</td>\n",
              "      <td>1.74680</td>\n",
              "      <td>-0.076770</td>\n",
              "      <td>Mujer</td>\n",
              "      <td>Slim</td>\n",
              "      <td>1</td>\n",
              "      <td>17.490</td>\n",
              "      <td>Alta</td>\n",
              "    </tr>\n",
              "    <tr>\n",
              "      <th>4</th>\n",
              "      <td>False</td>\n",
              "      <td>2.5725</td>\n",
              "      <td>1.94219</td>\n",
              "      <td>1.73949</td>\n",
              "      <td>0.130674</td>\n",
              "      <td>Mujer</td>\n",
              "      <td>Slim</td>\n",
              "      <td>0</td>\n",
              "      <td>15.621</td>\n",
              "      <td>Alta</td>\n",
              "    </tr>\n",
              "  </tbody>\n",
              "</table>\n",
              "</div>\n",
              "      <button class=\"colab-df-convert\" onclick=\"convertToInteractive('df-95e8b89d-548c-4c2d-a51d-0acfbcb00dc1')\"\n",
              "              title=\"Convert this dataframe to an interactive table.\"\n",
              "              style=\"display:none;\">\n",
              "        \n",
              "  <svg xmlns=\"http://www.w3.org/2000/svg\" height=\"24px\"viewBox=\"0 0 24 24\"\n",
              "       width=\"24px\">\n",
              "    <path d=\"M0 0h24v24H0V0z\" fill=\"none\"/>\n",
              "    <path d=\"M18.56 5.44l.94 2.06.94-2.06 2.06-.94-2.06-.94-.94-2.06-.94 2.06-2.06.94zm-11 1L8.5 8.5l.94-2.06 2.06-.94-2.06-.94L8.5 2.5l-.94 2.06-2.06.94zm10 10l.94 2.06.94-2.06 2.06-.94-2.06-.94-.94-2.06-.94 2.06-2.06.94z\"/><path d=\"M17.41 7.96l-1.37-1.37c-.4-.4-.92-.59-1.43-.59-.52 0-1.04.2-1.43.59L10.3 9.45l-7.72 7.72c-.78.78-.78 2.05 0 2.83L4 21.41c.39.39.9.59 1.41.59.51 0 1.02-.2 1.41-.59l7.78-7.78 2.81-2.81c.8-.78.8-2.07 0-2.86zM5.41 20L4 18.59l7.72-7.72 1.47 1.35L5.41 20z\"/>\n",
              "  </svg>\n",
              "      </button>\n",
              "      \n",
              "  <style>\n",
              "    .colab-df-container {\n",
              "      display:flex;\n",
              "      flex-wrap:wrap;\n",
              "      gap: 12px;\n",
              "    }\n",
              "\n",
              "    .colab-df-convert {\n",
              "      background-color: #E8F0FE;\n",
              "      border: none;\n",
              "      border-radius: 50%;\n",
              "      cursor: pointer;\n",
              "      display: none;\n",
              "      fill: #1967D2;\n",
              "      height: 32px;\n",
              "      padding: 0 0 0 0;\n",
              "      width: 32px;\n",
              "    }\n",
              "\n",
              "    .colab-df-convert:hover {\n",
              "      background-color: #E2EBFA;\n",
              "      box-shadow: 0px 1px 2px rgba(60, 64, 67, 0.3), 0px 1px 3px 1px rgba(60, 64, 67, 0.15);\n",
              "      fill: #174EA6;\n",
              "    }\n",
              "\n",
              "    [theme=dark] .colab-df-convert {\n",
              "      background-color: #3B4455;\n",
              "      fill: #D2E3FC;\n",
              "    }\n",
              "\n",
              "    [theme=dark] .colab-df-convert:hover {\n",
              "      background-color: #434B5C;\n",
              "      box-shadow: 0px 1px 3px 1px rgba(0, 0, 0, 0.15);\n",
              "      filter: drop-shadow(0px 1px 2px rgba(0, 0, 0, 0.3));\n",
              "      fill: #FFFFFF;\n",
              "    }\n",
              "  </style>\n",
              "\n",
              "      <script>\n",
              "        const buttonEl =\n",
              "          document.querySelector('#df-95e8b89d-548c-4c2d-a51d-0acfbcb00dc1 button.colab-df-convert');\n",
              "        buttonEl.style.display =\n",
              "          google.colab.kernel.accessAllowed ? 'block' : 'none';\n",
              "\n",
              "        async function convertToInteractive(key) {\n",
              "          const element = document.querySelector('#df-95e8b89d-548c-4c2d-a51d-0acfbcb00dc1');\n",
              "          const dataTable =\n",
              "            await google.colab.kernel.invokeFunction('convertToInteractive',\n",
              "                                                     [key], {});\n",
              "          if (!dataTable) return;\n",
              "\n",
              "          const docLinkHtml = 'Like what you see? Visit the ' +\n",
              "            '<a target=\"_blank\" href=https://colab.research.google.com/notebooks/data_table.ipynb>data table notebook</a>'\n",
              "            + ' to learn more about interactive tables.';\n",
              "          element.innerHTML = '';\n",
              "          dataTable['output_type'] = 'display_data';\n",
              "          await google.colab.output.renderOutput(dataTable, element);\n",
              "          const docLink = document.createElement('div');\n",
              "          docLink.innerHTML = docLinkHtml;\n",
              "          element.appendChild(docLink);\n",
              "        }\n",
              "      </script>\n",
              "    </div>\n",
              "  </div>\n",
              "  "
            ]
          },
          "metadata": {},
          "execution_count": 553
        }
      ]
    },
    {
      "cell_type": "markdown",
      "source": [
        "Idenificamos los datos de tipo \"categoricos\" y \"numericos\" para poder separarlos y ajustarlos."
      ],
      "metadata": {
        "id": "2h1PsRR-69MM"
      }
    },
    {
      "cell_type": "markdown",
      "source": [
        "* Datos categroricos: Gama, Comp y Sex."
      ],
      "metadata": {
        "id": "rWvJIjuK7Jtz"
      }
    },
    {
      "cell_type": "code",
      "source": [
        "categorical_data = KarenApp[[\"Sex\",\"Comp\",\"Gama\"]]"
      ],
      "metadata": {
        "id": "4jfNaqx_7qN1"
      },
      "execution_count": 554,
      "outputs": []
    },
    {
      "cell_type": "markdown",
      "source": [
        "* Datos numericos: Umbral, Picos, Skewn, Entro, Kurto e IQR."
      ],
      "metadata": {
        "id": "05zWmmlu70F0"
      }
    },
    {
      "cell_type": "code",
      "source": [
        "numerical_data = KarenApp[[\"IQR\",\"Kurto\",\"Entro\",\"Skewn\",\"Picos\",\"Umbral\"]]"
      ],
      "metadata": {
        "id": "CO9uC9Oq8DRe"
      },
      "execution_count": 555,
      "outputs": []
    },
    {
      "cell_type": "markdown",
      "source": [
        "Y por ultimo tenemos la varible de respuesta."
      ],
      "metadata": {
        "id": "kxz7URKY8Hkq"
      }
    },
    {
      "cell_type": "code",
      "execution_count": 556,
      "metadata": {
        "id": "u60JEQxQzNs_"
      },
      "outputs": [],
      "source": [
        "response_variable = KarenApp[\"Alert\"]"
      ]
    },
    {
      "cell_type": "markdown",
      "source": [
        "Como ya vimos anteriromen algunas de las varibales de respuesta son categoricas por lo que deben ser codificadas adecuadamente usando variables dummy."
      ],
      "metadata": {
        "id": "dr5SClmg-D28"
      }
    },
    {
      "cell_type": "code",
      "source": [
        "dummies_categoricos = pd.get_dummies(categorical_data)\n",
        "dummies = pd.DataFrame(dummies_categoricos)\n",
        "dummies.head()"
      ],
      "metadata": {
        "colab": {
          "base_uri": "https://localhost:8080/",
          "height": 206
        },
        "id": "_lSzo5qG_IzH",
        "outputId": "261dc225-c13b-4322-80b3-469ade38e875"
      },
      "execution_count": 557,
      "outputs": [
        {
          "output_type": "execute_result",
          "data": {
            "text/plain": [
              "   Sex_Hombre  Sex_Mujer  Comp_Medium  Comp_Robust  Comp_Slim  Gama_Alta  \\\n",
              "0           0          1            0            0          1          1   \n",
              "1           0          1            0            0          1          1   \n",
              "2           0          1            0            0          1          1   \n",
              "3           0          1            0            0          1          1   \n",
              "4           0          1            0            0          1          1   \n",
              "\n",
              "   Gama_Media  \n",
              "0           0  \n",
              "1           0  \n",
              "2           0  \n",
              "3           0  \n",
              "4           0  "
            ],
            "text/html": [
              "\n",
              "  <div id=\"df-cb924808-7fee-47e5-a031-1a5e120db9bc\">\n",
              "    <div class=\"colab-df-container\">\n",
              "      <div>\n",
              "<style scoped>\n",
              "    .dataframe tbody tr th:only-of-type {\n",
              "        vertical-align: middle;\n",
              "    }\n",
              "\n",
              "    .dataframe tbody tr th {\n",
              "        vertical-align: top;\n",
              "    }\n",
              "\n",
              "    .dataframe thead th {\n",
              "        text-align: right;\n",
              "    }\n",
              "</style>\n",
              "<table border=\"1\" class=\"dataframe\">\n",
              "  <thead>\n",
              "    <tr style=\"text-align: right;\">\n",
              "      <th></th>\n",
              "      <th>Sex_Hombre</th>\n",
              "      <th>Sex_Mujer</th>\n",
              "      <th>Comp_Medium</th>\n",
              "      <th>Comp_Robust</th>\n",
              "      <th>Comp_Slim</th>\n",
              "      <th>Gama_Alta</th>\n",
              "      <th>Gama_Media</th>\n",
              "    </tr>\n",
              "  </thead>\n",
              "  <tbody>\n",
              "    <tr>\n",
              "      <th>0</th>\n",
              "      <td>0</td>\n",
              "      <td>1</td>\n",
              "      <td>0</td>\n",
              "      <td>0</td>\n",
              "      <td>1</td>\n",
              "      <td>1</td>\n",
              "      <td>0</td>\n",
              "    </tr>\n",
              "    <tr>\n",
              "      <th>1</th>\n",
              "      <td>0</td>\n",
              "      <td>1</td>\n",
              "      <td>0</td>\n",
              "      <td>0</td>\n",
              "      <td>1</td>\n",
              "      <td>1</td>\n",
              "      <td>0</td>\n",
              "    </tr>\n",
              "    <tr>\n",
              "      <th>2</th>\n",
              "      <td>0</td>\n",
              "      <td>1</td>\n",
              "      <td>0</td>\n",
              "      <td>0</td>\n",
              "      <td>1</td>\n",
              "      <td>1</td>\n",
              "      <td>0</td>\n",
              "    </tr>\n",
              "    <tr>\n",
              "      <th>3</th>\n",
              "      <td>0</td>\n",
              "      <td>1</td>\n",
              "      <td>0</td>\n",
              "      <td>0</td>\n",
              "      <td>1</td>\n",
              "      <td>1</td>\n",
              "      <td>0</td>\n",
              "    </tr>\n",
              "    <tr>\n",
              "      <th>4</th>\n",
              "      <td>0</td>\n",
              "      <td>1</td>\n",
              "      <td>0</td>\n",
              "      <td>0</td>\n",
              "      <td>1</td>\n",
              "      <td>1</td>\n",
              "      <td>0</td>\n",
              "    </tr>\n",
              "  </tbody>\n",
              "</table>\n",
              "</div>\n",
              "      <button class=\"colab-df-convert\" onclick=\"convertToInteractive('df-cb924808-7fee-47e5-a031-1a5e120db9bc')\"\n",
              "              title=\"Convert this dataframe to an interactive table.\"\n",
              "              style=\"display:none;\">\n",
              "        \n",
              "  <svg xmlns=\"http://www.w3.org/2000/svg\" height=\"24px\"viewBox=\"0 0 24 24\"\n",
              "       width=\"24px\">\n",
              "    <path d=\"M0 0h24v24H0V0z\" fill=\"none\"/>\n",
              "    <path d=\"M18.56 5.44l.94 2.06.94-2.06 2.06-.94-2.06-.94-.94-2.06-.94 2.06-2.06.94zm-11 1L8.5 8.5l.94-2.06 2.06-.94-2.06-.94L8.5 2.5l-.94 2.06-2.06.94zm10 10l.94 2.06.94-2.06 2.06-.94-2.06-.94-.94-2.06-.94 2.06-2.06.94z\"/><path d=\"M17.41 7.96l-1.37-1.37c-.4-.4-.92-.59-1.43-.59-.52 0-1.04.2-1.43.59L10.3 9.45l-7.72 7.72c-.78.78-.78 2.05 0 2.83L4 21.41c.39.39.9.59 1.41.59.51 0 1.02-.2 1.41-.59l7.78-7.78 2.81-2.81c.8-.78.8-2.07 0-2.86zM5.41 20L4 18.59l7.72-7.72 1.47 1.35L5.41 20z\"/>\n",
              "  </svg>\n",
              "      </button>\n",
              "      \n",
              "  <style>\n",
              "    .colab-df-container {\n",
              "      display:flex;\n",
              "      flex-wrap:wrap;\n",
              "      gap: 12px;\n",
              "    }\n",
              "\n",
              "    .colab-df-convert {\n",
              "      background-color: #E8F0FE;\n",
              "      border: none;\n",
              "      border-radius: 50%;\n",
              "      cursor: pointer;\n",
              "      display: none;\n",
              "      fill: #1967D2;\n",
              "      height: 32px;\n",
              "      padding: 0 0 0 0;\n",
              "      width: 32px;\n",
              "    }\n",
              "\n",
              "    .colab-df-convert:hover {\n",
              "      background-color: #E2EBFA;\n",
              "      box-shadow: 0px 1px 2px rgba(60, 64, 67, 0.3), 0px 1px 3px 1px rgba(60, 64, 67, 0.15);\n",
              "      fill: #174EA6;\n",
              "    }\n",
              "\n",
              "    [theme=dark] .colab-df-convert {\n",
              "      background-color: #3B4455;\n",
              "      fill: #D2E3FC;\n",
              "    }\n",
              "\n",
              "    [theme=dark] .colab-df-convert:hover {\n",
              "      background-color: #434B5C;\n",
              "      box-shadow: 0px 1px 3px 1px rgba(0, 0, 0, 0.15);\n",
              "      filter: drop-shadow(0px 1px 2px rgba(0, 0, 0, 0.3));\n",
              "      fill: #FFFFFF;\n",
              "    }\n",
              "  </style>\n",
              "\n",
              "      <script>\n",
              "        const buttonEl =\n",
              "          document.querySelector('#df-cb924808-7fee-47e5-a031-1a5e120db9bc button.colab-df-convert');\n",
              "        buttonEl.style.display =\n",
              "          google.colab.kernel.accessAllowed ? 'block' : 'none';\n",
              "\n",
              "        async function convertToInteractive(key) {\n",
              "          const element = document.querySelector('#df-cb924808-7fee-47e5-a031-1a5e120db9bc');\n",
              "          const dataTable =\n",
              "            await google.colab.kernel.invokeFunction('convertToInteractive',\n",
              "                                                     [key], {});\n",
              "          if (!dataTable) return;\n",
              "\n",
              "          const docLinkHtml = 'Like what you see? Visit the ' +\n",
              "            '<a target=\"_blank\" href=https://colab.research.google.com/notebooks/data_table.ipynb>data table notebook</a>'\n",
              "            + ' to learn more about interactive tables.';\n",
              "          element.innerHTML = '';\n",
              "          dataTable['output_type'] = 'display_data';\n",
              "          await google.colab.output.renderOutput(dataTable, element);\n",
              "          const docLink = document.createElement('div');\n",
              "          docLink.innerHTML = docLinkHtml;\n",
              "          element.appendChild(docLink);\n",
              "        }\n",
              "      </script>\n",
              "    </div>\n",
              "  </div>\n",
              "  "
            ]
          },
          "metadata": {},
          "execution_count": 557
        }
      ]
    },
    {
      "cell_type": "markdown",
      "source": [
        "Comprobamos que los valores van desde 0 a 1."
      ],
      "metadata": {
        "id": "zb7gBDWsqHXX"
      }
    },
    {
      "cell_type": "code",
      "source": [
        "dummies.boxplot()"
      ],
      "metadata": {
        "colab": {
          "base_uri": "https://localhost:8080/",
          "height": 283
        },
        "id": "z-U7h2IGAHl1",
        "outputId": "b4f28720-3db9-4bd4-ea5d-9f9888f0b6d9"
      },
      "execution_count": 558,
      "outputs": [
        {
          "output_type": "execute_result",
          "data": {
            "text/plain": [
              "<matplotlib.axes._subplots.AxesSubplot at 0x7f3330c36f50>"
            ]
          },
          "metadata": {},
          "execution_count": 558
        },
        {
          "output_type": "display_data",
          "data": {
            "text/plain": [
              "<Figure size 432x288 with 1 Axes>"
            ],
            "image/png": "[encoded data removed]"
          },
          "metadata": {
            "needs_background": "light"
          }
        }
      ]
    },
    {
      "cell_type": "markdown",
      "source": [
        "Estos son los datos de tipo \"numericos\"."
      ],
      "metadata": {
        "id": "cXqjr1m4USNQ"
      }
    },
    {
      "cell_type": "code",
      "source": [
        "data_numericos = pd.DataFrame(numerical_data)\n",
        "data_numericos.head()"
      ],
      "metadata": {
        "colab": {
          "base_uri": "https://localhost:8080/",
          "height": 206
        },
        "id": "rWbVAar3Tukb",
        "outputId": "eeb881f3-7dce-4b40-acb0-5564cedf70ac"
      },
      "execution_count": 559,
      "outputs": [
        {
          "output_type": "execute_result",
          "data": {
            "text/plain": [
              "      IQR    Kurto    Entro     Skewn  Picos  Umbral\n",
              "0  2.6938  1.73447  1.76160  0.140613      0  15.708\n",
              "1  2.5478  2.08198  1.71931  0.104144      0  15.861\n",
              "2  2.5754  3.82861  1.53336  0.687755      2  17.283\n",
              "3  2.5976  1.97106  1.74680 -0.076770      1  17.490\n",
              "4  2.5725  1.94219  1.73949  0.130674      0  15.621"
            ],
            "text/html": [
              "\n",
              "  <div id=\"df-f7fef7ff-1406-48c0-b014-66a4bc34a7ee\">\n",
              "    <div class=\"colab-df-container\">\n",
              "      <div>\n",
              "<style scoped>\n",
              "    .dataframe tbody tr th:only-of-type {\n",
              "        vertical-align: middle;\n",
              "    }\n",
              "\n",
              "    .dataframe tbody tr th {\n",
              "        vertical-align: top;\n",
              "    }\n",
              "\n",
              "    .dataframe thead th {\n",
              "        text-align: right;\n",
              "    }\n",
              "</style>\n",
              "<table border=\"1\" class=\"dataframe\">\n",
              "  <thead>\n",
              "    <tr style=\"text-align: right;\">\n",
              "      <th></th>\n",
              "      <th>IQR</th>\n",
              "      <th>Kurto</th>\n",
              "      <th>Entro</th>\n",
              "      <th>Skewn</th>\n",
              "      <th>Picos</th>\n",
              "      <th>Umbral</th>\n",
              "    </tr>\n",
              "  </thead>\n",
              "  <tbody>\n",
              "    <tr>\n",
              "      <th>0</th>\n",
              "      <td>2.6938</td>\n",
              "      <td>1.73447</td>\n",
              "      <td>1.76160</td>\n",
              "      <td>0.140613</td>\n",
              "      <td>0</td>\n",
              "      <td>15.708</td>\n",
              "    </tr>\n",
              "    <tr>\n",
              "      <th>1</th>\n",
              "      <td>2.5478</td>\n",
              "      <td>2.08198</td>\n",
              "      <td>1.71931</td>\n",
              "      <td>0.104144</td>\n",
              "      <td>0</td>\n",
              "      <td>15.861</td>\n",
              "    </tr>\n",
              "    <tr>\n",
              "      <th>2</th>\n",
              "      <td>2.5754</td>\n",
              "      <td>3.82861</td>\n",
              "      <td>1.53336</td>\n",
              "      <td>0.687755</td>\n",
              "      <td>2</td>\n",
              "      <td>17.283</td>\n",
              "    </tr>\n",
              "    <tr>\n",
              "      <th>3</th>\n",
              "      <td>2.5976</td>\n",
              "      <td>1.97106</td>\n",
              "      <td>1.74680</td>\n",
              "      <td>-0.076770</td>\n",
              "      <td>1</td>\n",
              "      <td>17.490</td>\n",
              "    </tr>\n",
              "    <tr>\n",
              "      <th>4</th>\n",
              "      <td>2.5725</td>\n",
              "      <td>1.94219</td>\n",
              "      <td>1.73949</td>\n",
              "      <td>0.130674</td>\n",
              "      <td>0</td>\n",
              "      <td>15.621</td>\n",
              "    </tr>\n",
              "  </tbody>\n",
              "</table>\n",
              "</div>\n",
              "      <button class=\"colab-df-convert\" onclick=\"convertToInteractive('df-f7fef7ff-1406-48c0-b014-66a4bc34a7ee')\"\n",
              "              title=\"Convert this dataframe to an interactive table.\"\n",
              "              style=\"display:none;\">\n",
              "        \n",
              "  <svg xmlns=\"http://www.w3.org/2000/svg\" height=\"24px\"viewBox=\"0 0 24 24\"\n",
              "       width=\"24px\">\n",
              "    <path d=\"M0 0h24v24H0V0z\" fill=\"none\"/>\n",
              "    <path d=\"M18.56 5.44l.94 2.06.94-2.06 2.06-.94-2.06-.94-.94-2.06-.94 2.06-2.06.94zm-11 1L8.5 8.5l.94-2.06 2.06-.94-2.06-.94L8.5 2.5l-.94 2.06-2.06.94zm10 10l.94 2.06.94-2.06 2.06-.94-2.06-.94-.94-2.06-.94 2.06-2.06.94z\"/><path d=\"M17.41 7.96l-1.37-1.37c-.4-.4-.92-.59-1.43-.59-.52 0-1.04.2-1.43.59L10.3 9.45l-7.72 7.72c-.78.78-.78 2.05 0 2.83L4 21.41c.39.39.9.59 1.41.59.51 0 1.02-.2 1.41-.59l7.78-7.78 2.81-2.81c.8-.78.8-2.07 0-2.86zM5.41 20L4 18.59l7.72-7.72 1.47 1.35L5.41 20z\"/>\n",
              "  </svg>\n",
              "      </button>\n",
              "      \n",
              "  <style>\n",
              "    .colab-df-container {\n",
              "      display:flex;\n",
              "      flex-wrap:wrap;\n",
              "      gap: 12px;\n",
              "    }\n",
              "\n",
              "    .colab-df-convert {\n",
              "      background-color: #E8F0FE;\n",
              "      border: none;\n",
              "      border-radius: 50%;\n",
              "      cursor: pointer;\n",
              "      display: none;\n",
              "      fill: #1967D2;\n",
              "      height: 32px;\n",
              "      padding: 0 0 0 0;\n",
              "      width: 32px;\n",
              "    }\n",
              "\n",
              "    .colab-df-convert:hover {\n",
              "      background-color: #E2EBFA;\n",
              "      box-shadow: 0px 1px 2px rgba(60, 64, 67, 0.3), 0px 1px 3px 1px rgba(60, 64, 67, 0.15);\n",
              "      fill: #174EA6;\n",
              "    }\n",
              "\n",
              "    [theme=dark] .colab-df-convert {\n",
              "      background-color: #3B4455;\n",
              "      fill: #D2E3FC;\n",
              "    }\n",
              "\n",
              "    [theme=dark] .colab-df-convert:hover {\n",
              "      background-color: #434B5C;\n",
              "      box-shadow: 0px 1px 3px 1px rgba(0, 0, 0, 0.15);\n",
              "      filter: drop-shadow(0px 1px 2px rgba(0, 0, 0, 0.3));\n",
              "      fill: #FFFFFF;\n",
              "    }\n",
              "  </style>\n",
              "\n",
              "      <script>\n",
              "        const buttonEl =\n",
              "          document.querySelector('#df-f7fef7ff-1406-48c0-b014-66a4bc34a7ee button.colab-df-convert');\n",
              "        buttonEl.style.display =\n",
              "          google.colab.kernel.accessAllowed ? 'block' : 'none';\n",
              "\n",
              "        async function convertToInteractive(key) {\n",
              "          const element = document.querySelector('#df-f7fef7ff-1406-48c0-b014-66a4bc34a7ee');\n",
              "          const dataTable =\n",
              "            await google.colab.kernel.invokeFunction('convertToInteractive',\n",
              "                                                     [key], {});\n",
              "          if (!dataTable) return;\n",
              "\n",
              "          const docLinkHtml = 'Like what you see? Visit the ' +\n",
              "            '<a target=\"_blank\" href=https://colab.research.google.com/notebooks/data_table.ipynb>data table notebook</a>'\n",
              "            + ' to learn more about interactive tables.';\n",
              "          element.innerHTML = '';\n",
              "          dataTable['output_type'] = 'display_data';\n",
              "          await google.colab.output.renderOutput(dataTable, element);\n",
              "          const docLink = document.createElement('div');\n",
              "          docLink.innerHTML = docLinkHtml;\n",
              "          element.appendChild(docLink);\n",
              "        }\n",
              "      </script>\n",
              "    </div>\n",
              "  </div>\n",
              "  "
            ]
          },
          "metadata": {},
          "execution_count": 559
        }
      ]
    },
    {
      "cell_type": "markdown",
      "source": [
        "Los graficamos"
      ],
      "metadata": {
        "id": "BGpv6QC54Rwl"
      }
    },
    {
      "cell_type": "code",
      "source": [
        "data_numericos.boxplot()"
      ],
      "metadata": {
        "colab": {
          "base_uri": "https://localhost:8080/",
          "height": 282
        },
        "id": "Wk1cP-uW3GPu",
        "outputId": "febf7d5c-1c63-464e-f382-f1110ee7b2b3"
      },
      "execution_count": 560,
      "outputs": [
        {
          "output_type": "execute_result",
          "data": {
            "text/plain": [
              "<matplotlib.axes._subplots.AxesSubplot at 0x7f3330b51610>"
            ]
          },
          "metadata": {},
          "execution_count": 560
        },
        {
          "output_type": "display_data",
          "data": {
            "text/plain": [
              "<Figure size 432x288 with 1 Axes>"
            ],
            "image/png": "[encoded data removed]"
          },
          "metadata": {
            "needs_background": "light"
          }
        }
      ]
    },
    {
      "cell_type": "markdown",
      "source": [
        "Esta es nuestra variable de respuesta."
      ],
      "metadata": {
        "id": "C5eZr7lBUkP6"
      }
    },
    {
      "cell_type": "code",
      "source": [
        "variable = pd.DataFrame(response_variable)\n",
        "variable.head()"
      ],
      "metadata": {
        "colab": {
          "base_uri": "https://localhost:8080/",
          "height": 206
        },
        "id": "_nwDX08hUiw2",
        "outputId": "00be6b2c-77cc-40df-bca5-e57492970799"
      },
      "execution_count": 561,
      "outputs": [
        {
          "output_type": "execute_result",
          "data": {
            "text/plain": [
              "   Alert\n",
              "0  False\n",
              "1  False\n",
              "2  False\n",
              "3  False\n",
              "4  False"
            ],
            "text/html": [
              "\n",
              "  <div id=\"df-0f66173b-e1ff-4fe7-93e4-719f2278a857\">\n",
              "    <div class=\"colab-df-container\">\n",
              "      <div>\n",
              "<style scoped>\n",
              "    .dataframe tbody tr th:only-of-type {\n",
              "        vertical-align: middle;\n",
              "    }\n",
              "\n",
              "    .dataframe tbody tr th {\n",
              "        vertical-align: top;\n",
              "    }\n",
              "\n",
              "    .dataframe thead th {\n",
              "        text-align: right;\n",
              "    }\n",
              "</style>\n",
              "<table border=\"1\" class=\"dataframe\">\n",
              "  <thead>\n",
              "    <tr style=\"text-align: right;\">\n",
              "      <th></th>\n",
              "      <th>Alert</th>\n",
              "    </tr>\n",
              "  </thead>\n",
              "  <tbody>\n",
              "    <tr>\n",
              "      <th>0</th>\n",
              "      <td>False</td>\n",
              "    </tr>\n",
              "    <tr>\n",
              "      <th>1</th>\n",
              "      <td>False</td>\n",
              "    </tr>\n",
              "    <tr>\n",
              "      <th>2</th>\n",
              "      <td>False</td>\n",
              "    </tr>\n",
              "    <tr>\n",
              "      <th>3</th>\n",
              "      <td>False</td>\n",
              "    </tr>\n",
              "    <tr>\n",
              "      <th>4</th>\n",
              "      <td>False</td>\n",
              "    </tr>\n",
              "  </tbody>\n",
              "</table>\n",
              "</div>\n",
              "      <button class=\"colab-df-convert\" onclick=\"convertToInteractive('df-0f66173b-e1ff-4fe7-93e4-719f2278a857')\"\n",
              "              title=\"Convert this dataframe to an interactive table.\"\n",
              "              style=\"display:none;\">\n",
              "        \n",
              "  <svg xmlns=\"http://www.w3.org/2000/svg\" height=\"24px\"viewBox=\"0 0 24 24\"\n",
              "       width=\"24px\">\n",
              "    <path d=\"M0 0h24v24H0V0z\" fill=\"none\"/>\n",
              "    <path d=\"M18.56 5.44l.94 2.06.94-2.06 2.06-.94-2.06-.94-.94-2.06-.94 2.06-2.06.94zm-11 1L8.5 8.5l.94-2.06 2.06-.94-2.06-.94L8.5 2.5l-.94 2.06-2.06.94zm10 10l.94 2.06.94-2.06 2.06-.94-2.06-.94-.94-2.06-.94 2.06-2.06.94z\"/><path d=\"M17.41 7.96l-1.37-1.37c-.4-.4-.92-.59-1.43-.59-.52 0-1.04.2-1.43.59L10.3 9.45l-7.72 7.72c-.78.78-.78 2.05 0 2.83L4 21.41c.39.39.9.59 1.41.59.51 0 1.02-.2 1.41-.59l7.78-7.78 2.81-2.81c.8-.78.8-2.07 0-2.86zM5.41 20L4 18.59l7.72-7.72 1.47 1.35L5.41 20z\"/>\n",
              "  </svg>\n",
              "      </button>\n",
              "      \n",
              "  <style>\n",
              "    .colab-df-container {\n",
              "      display:flex;\n",
              "      flex-wrap:wrap;\n",
              "      gap: 12px;\n",
              "    }\n",
              "\n",
              "    .colab-df-convert {\n",
              "      background-color: #E8F0FE;\n",
              "      border: none;\n",
              "      border-radius: 50%;\n",
              "      cursor: pointer;\n",
              "      display: none;\n",
              "      fill: #1967D2;\n",
              "      height: 32px;\n",
              "      padding: 0 0 0 0;\n",
              "      width: 32px;\n",
              "    }\n",
              "\n",
              "    .colab-df-convert:hover {\n",
              "      background-color: #E2EBFA;\n",
              "      box-shadow: 0px 1px 2px rgba(60, 64, 67, 0.3), 0px 1px 3px 1px rgba(60, 64, 67, 0.15);\n",
              "      fill: #174EA6;\n",
              "    }\n",
              "\n",
              "    [theme=dark] .colab-df-convert {\n",
              "      background-color: #3B4455;\n",
              "      fill: #D2E3FC;\n",
              "    }\n",
              "\n",
              "    [theme=dark] .colab-df-convert:hover {\n",
              "      background-color: #434B5C;\n",
              "      box-shadow: 0px 1px 3px 1px rgba(0, 0, 0, 0.15);\n",
              "      filter: drop-shadow(0px 1px 2px rgba(0, 0, 0, 0.3));\n",
              "      fill: #FFFFFF;\n",
              "    }\n",
              "  </style>\n",
              "\n",
              "      <script>\n",
              "        const buttonEl =\n",
              "          document.querySelector('#df-0f66173b-e1ff-4fe7-93e4-719f2278a857 button.colab-df-convert');\n",
              "        buttonEl.style.display =\n",
              "          google.colab.kernel.accessAllowed ? 'block' : 'none';\n",
              "\n",
              "        async function convertToInteractive(key) {\n",
              "          const element = document.querySelector('#df-0f66173b-e1ff-4fe7-93e4-719f2278a857');\n",
              "          const dataTable =\n",
              "            await google.colab.kernel.invokeFunction('convertToInteractive',\n",
              "                                                     [key], {});\n",
              "          if (!dataTable) return;\n",
              "\n",
              "          const docLinkHtml = 'Like what you see? Visit the ' +\n",
              "            '<a target=\"_blank\" href=https://colab.research.google.com/notebooks/data_table.ipynb>data table notebook</a>'\n",
              "            + ' to learn more about interactive tables.';\n",
              "          element.innerHTML = '';\n",
              "          dataTable['output_type'] = 'display_data';\n",
              "          await google.colab.output.renderOutput(dataTable, element);\n",
              "          const docLink = document.createElement('div');\n",
              "          docLink.innerHTML = docLinkHtml;\n",
              "          element.appendChild(docLink);\n",
              "        }\n",
              "      </script>\n",
              "    </div>\n",
              "  </div>\n",
              "  "
            ]
          },
          "metadata": {},
          "execution_count": 561
        }
      ]
    },
    {
      "cell_type": "markdown",
      "source": [
        "Ya tenemos listos y clasificados todos nuestros datos, ahora podemos aplicar varios metodos."
      ],
      "metadata": {
        "id": "Wn-he7udU_UI"
      }
    },
    {
      "cell_type": "code",
      "execution_count": 562,
      "metadata": {
        "colab": {
          "base_uri": "https://localhost:8080/",
          "height": 206
        },
        "id": "IYwGCs_4zTGF",
        "outputId": "1528e479-3172-422e-dab8-e04319f241e9"
      },
      "outputs": [
        {
          "output_type": "execute_result",
          "data": {
            "text/plain": [
              "   Alert     IQR    Kurto    Entro     Skewn  Picos  Umbral  Sex_Hombre  \\\n",
              "0  False  2.6938  1.73447  1.76160  0.140613      0  15.708           0   \n",
              "1  False  2.5478  2.08198  1.71931  0.104144      0  15.861           0   \n",
              "2  False  2.5754  3.82861  1.53336  0.687755      2  17.283           0   \n",
              "3  False  2.5976  1.97106  1.74680 -0.076770      1  17.490           0   \n",
              "4  False  2.5725  1.94219  1.73949  0.130674      0  15.621           0   \n",
              "\n",
              "   Sex_Mujer  Comp_Medium  Comp_Robust  Comp_Slim  Gama_Alta  Gama_Media  \n",
              "0          1            0            0          1          1           0  \n",
              "1          1            0            0          1          1           0  \n",
              "2          1            0            0          1          1           0  \n",
              "3          1            0            0          1          1           0  \n",
              "4          1            0            0          1          1           0  "
            ],
            "text/html": [
              "\n",
              "  <div id=\"df-ed72b766-3644-4ab9-abc6-a2a1f748530a\">\n",
              "    <div class=\"colab-df-container\">\n",
              "      <div>\n",
              "<style scoped>\n",
              "    .dataframe tbody tr th:only-of-type {\n",
              "        vertical-align: middle;\n",
              "    }\n",
              "\n",
              "    .dataframe tbody tr th {\n",
              "        vertical-align: top;\n",
              "    }\n",
              "\n",
              "    .dataframe thead th {\n",
              "        text-align: right;\n",
              "    }\n",
              "</style>\n",
              "<table border=\"1\" class=\"dataframe\">\n",
              "  <thead>\n",
              "    <tr style=\"text-align: right;\">\n",
              "      <th></th>\n",
              "      <th>Alert</th>\n",
              "      <th>IQR</th>\n",
              "      <th>Kurto</th>\n",
              "      <th>Entro</th>\n",
              "      <th>Skewn</th>\n",
              "      <th>Picos</th>\n",
              "      <th>Umbral</th>\n",
              "      <th>Sex_Hombre</th>\n",
              "      <th>Sex_Mujer</th>\n",
              "      <th>Comp_Medium</th>\n",
              "      <th>Comp_Robust</th>\n",
              "      <th>Comp_Slim</th>\n",
              "      <th>Gama_Alta</th>\n",
              "      <th>Gama_Media</th>\n",
              "    </tr>\n",
              "  </thead>\n",
              "  <tbody>\n",
              "    <tr>\n",
              "      <th>0</th>\n",
              "      <td>False</td>\n",
              "      <td>2.6938</td>\n",
              "      <td>1.73447</td>\n",
              "      <td>1.76160</td>\n",
              "      <td>0.140613</td>\n",
              "      <td>0</td>\n",
              "      <td>15.708</td>\n",
              "      <td>0</td>\n",
              "      <td>1</td>\n",
              "      <td>0</td>\n",
              "      <td>0</td>\n",
              "      <td>1</td>\n",
              "      <td>1</td>\n",
              "      <td>0</td>\n",
              "    </tr>\n",
              "    <tr>\n",
              "      <th>1</th>\n",
              "      <td>False</td>\n",
              "      <td>2.5478</td>\n",
              "      <td>2.08198</td>\n",
              "      <td>1.71931</td>\n",
              "      <td>0.104144</td>\n",
              "      <td>0</td>\n",
              "      <td>15.861</td>\n",
              "      <td>0</td>\n",
              "      <td>1</td>\n",
              "      <td>0</td>\n",
              "      <td>0</td>\n",
              "      <td>1</td>\n",
              "      <td>1</td>\n",
              "      <td>0</td>\n",
              "    </tr>\n",
              "    <tr>\n",
              "      <th>2</th>\n",
              "      <td>False</td>\n",
              "      <td>2.5754</td>\n",
              "      <td>3.82861</td>\n",
              "      <td>1.53336</td>\n",
              "      <td>0.687755</td>\n",
              "      <td>2</td>\n",
              "      <td>17.283</td>\n",
              "      <td>0</td>\n",
              "      <td>1</td>\n",
              "      <td>0</td>\n",
              "      <td>0</td>\n",
              "      <td>1</td>\n",
              "      <td>1</td>\n",
              "      <td>0</td>\n",
              "    </tr>\n",
              "    <tr>\n",
              "      <th>3</th>\n",
              "      <td>False</td>\n",
              "      <td>2.5976</td>\n",
              "      <td>1.97106</td>\n",
              "      <td>1.74680</td>\n",
              "      <td>-0.076770</td>\n",
              "      <td>1</td>\n",
              "      <td>17.490</td>\n",
              "      <td>0</td>\n",
              "      <td>1</td>\n",
              "      <td>0</td>\n",
              "      <td>0</td>\n",
              "      <td>1</td>\n",
              "      <td>1</td>\n",
              "      <td>0</td>\n",
              "    </tr>\n",
              "    <tr>\n",
              "      <th>4</th>\n",
              "      <td>False</td>\n",
              "      <td>2.5725</td>\n",
              "      <td>1.94219</td>\n",
              "      <td>1.73949</td>\n",
              "      <td>0.130674</td>\n",
              "      <td>0</td>\n",
              "      <td>15.621</td>\n",
              "      <td>0</td>\n",
              "      <td>1</td>\n",
              "      <td>0</td>\n",
              "      <td>0</td>\n",
              "      <td>1</td>\n",
              "      <td>1</td>\n",
              "      <td>0</td>\n",
              "    </tr>\n",
              "  </tbody>\n",
              "</table>\n",
              "</div>\n",
              "      <button class=\"colab-df-convert\" onclick=\"convertToInteractive('df-ed72b766-3644-4ab9-abc6-a2a1f748530a')\"\n",
              "              title=\"Convert this dataframe to an interactive table.\"\n",
              "              style=\"display:none;\">\n",
              "        \n",
              "  <svg xmlns=\"http://www.w3.org/2000/svg\" height=\"24px\"viewBox=\"0 0 24 24\"\n",
              "       width=\"24px\">\n",
              "    <path d=\"M0 0h24v24H0V0z\" fill=\"none\"/>\n",
              "    <path d=\"M18.56 5.44l.94 2.06.94-2.06 2.06-.94-2.06-.94-.94-2.06-.94 2.06-2.06.94zm-11 1L8.5 8.5l.94-2.06 2.06-.94-2.06-.94L8.5 2.5l-.94 2.06-2.06.94zm10 10l.94 2.06.94-2.06 2.06-.94-2.06-.94-.94-2.06-.94 2.06-2.06.94z\"/><path d=\"M17.41 7.96l-1.37-1.37c-.4-.4-.92-.59-1.43-.59-.52 0-1.04.2-1.43.59L10.3 9.45l-7.72 7.72c-.78.78-.78 2.05 0 2.83L4 21.41c.39.39.9.59 1.41.59.51 0 1.02-.2 1.41-.59l7.78-7.78 2.81-2.81c.8-.78.8-2.07 0-2.86zM5.41 20L4 18.59l7.72-7.72 1.47 1.35L5.41 20z\"/>\n",
              "  </svg>\n",
              "      </button>\n",
              "      \n",
              "  <style>\n",
              "    .colab-df-container {\n",
              "      display:flex;\n",
              "      flex-wrap:wrap;\n",
              "      gap: 12px;\n",
              "    }\n",
              "\n",
              "    .colab-df-convert {\n",
              "      background-color: #E8F0FE;\n",
              "      border: none;\n",
              "      border-radius: 50%;\n",
              "      cursor: pointer;\n",
              "      display: none;\n",
              "      fill: #1967D2;\n",
              "      height: 32px;\n",
              "      padding: 0 0 0 0;\n",
              "      width: 32px;\n",
              "    }\n",
              "\n",
              "    .colab-df-convert:hover {\n",
              "      background-color: #E2EBFA;\n",
              "      box-shadow: 0px 1px 2px rgba(60, 64, 67, 0.3), 0px 1px 3px 1px rgba(60, 64, 67, 0.15);\n",
              "      fill: #174EA6;\n",
              "    }\n",
              "\n",
              "    [theme=dark] .colab-df-convert {\n",
              "      background-color: #3B4455;\n",
              "      fill: #D2E3FC;\n",
              "    }\n",
              "\n",
              "    [theme=dark] .colab-df-convert:hover {\n",
              "      background-color: #434B5C;\n",
              "      box-shadow: 0px 1px 3px 1px rgba(0, 0, 0, 0.15);\n",
              "      filter: drop-shadow(0px 1px 2px rgba(0, 0, 0, 0.3));\n",
              "      fill: #FFFFFF;\n",
              "    }\n",
              "  </style>\n",
              "\n",
              "      <script>\n",
              "        const buttonEl =\n",
              "          document.querySelector('#df-ed72b766-3644-4ab9-abc6-a2a1f748530a button.colab-df-convert');\n",
              "        buttonEl.style.display =\n",
              "          google.colab.kernel.accessAllowed ? 'block' : 'none';\n",
              "\n",
              "        async function convertToInteractive(key) {\n",
              "          const element = document.querySelector('#df-ed72b766-3644-4ab9-abc6-a2a1f748530a');\n",
              "          const dataTable =\n",
              "            await google.colab.kernel.invokeFunction('convertToInteractive',\n",
              "                                                     [key], {});\n",
              "          if (!dataTable) return;\n",
              "\n",
              "          const docLinkHtml = 'Like what you see? Visit the ' +\n",
              "            '<a target=\"_blank\" href=https://colab.research.google.com/notebooks/data_table.ipynb>data table notebook</a>'\n",
              "            + ' to learn more about interactive tables.';\n",
              "          element.innerHTML = '';\n",
              "          dataTable['output_type'] = 'display_data';\n",
              "          await google.colab.output.renderOutput(dataTable, element);\n",
              "          const docLink = document.createElement('div');\n",
              "          docLink.innerHTML = docLinkHtml;\n",
              "          element.appendChild(docLink);\n",
              "        }\n",
              "      </script>\n",
              "    </div>\n",
              "  </div>\n",
              "  "
            ]
          },
          "metadata": {},
          "execution_count": 562
        }
      ],
      "source": [
        "base = pd.concat([variable,data_numericos.reset_index(drop=True), dummies.reset_index(drop=True)], axis=1)\n",
        "base.head()"
      ]
    },
    {
      "cell_type": "code",
      "execution_count": 563,
      "metadata": {
        "id": "hYdiDHdeqlfQ"
      },
      "outputs": [],
      "source": [
        "X = base[[\"IQR\",\"Kurto\",\"Entro\",\"Skewn\",\"Picos\",\"Umbral\",\"Sex_Hombre\",\"Sex_Mujer\",\"Comp_Medium\",\"Comp_Robust\",\"Comp_Slim\",\"Gama_Alta\",\"Gama_Media\"]]\n",
        "y = base[\"Alert\"]"
      ]
    },
    {
      "cell_type": "markdown",
      "source": [
        "# EXPLORACION DE LAS VARIBLES DE RESPUESTA"
      ],
      "metadata": {
        "id": "BfMgjqnioLeX"
      }
    },
    {
      "cell_type": "markdown",
      "source": [
        "En las siguentes celdas exploraresmo las varibles de respuesta con un boxplot y un histograma de frecuencias."
      ],
      "metadata": {
        "id": "DKUuwxocq9qN"
      }
    },
    {
      "cell_type": "markdown",
      "source": [
        "Nos ayudamos de la siguiente libreria para hacer las graficas."
      ],
      "metadata": {
        "id": "98VJkKhMuQbA"
      }
    },
    {
      "cell_type": "code",
      "source": [
        "import matplotlib.pyplot as plt"
      ],
      "metadata": {
        "id": "sSBIZKVTuOcg"
      },
      "execution_count": 564,
      "outputs": []
    },
    {
      "cell_type": "markdown",
      "source": [
        "### Varialbe: IQR"
      ],
      "metadata": {
        "id": "JYOLVXxuqjLp"
      }
    },
    {
      "cell_type": "code",
      "source": [
        "KarenApp.IQR.hist()"
      ],
      "metadata": {
        "colab": {
          "base_uri": "https://localhost:8080/",
          "height": 282
        },
        "id": "gh37jJraoQKN",
        "outputId": "141b89bd-6fe2-4788-9eaa-906fffa6f674"
      },
      "execution_count": 565,
      "outputs": [
        {
          "output_type": "execute_result",
          "data": {
            "text/plain": [
              "<matplotlib.axes._subplots.AxesSubplot at 0x7f33309e36d0>"
            ]
          },
          "metadata": {},
          "execution_count": 565
        },
        {
          "output_type": "display_data",
          "data": {
            "text/plain": [
              "<Figure size 432x288 with 1 Axes>"
            ],
            "image/png": "[encoded data removed]"
          },
          "metadata": {
            "needs_background": "light"
          }
        }
      ]
    },
    {
      "cell_type": "code",
      "source": [
        "plt.boxplot(KarenApp.IQR)"
      ],
      "metadata": {
        "colab": {
          "base_uri": "https://localhost:8080/",
          "height": 404
        },
        "id": "-Mus-IW7qoE7",
        "outputId": "1f15d119-937e-41e2-c81e-da0c50d46ee2"
      },
      "execution_count": 566,
      "outputs": [
        {
          "output_type": "execute_result",
          "data": {
            "text/plain": [
              "{'whiskers': [<matplotlib.lines.Line2D at 0x7f3330927890>,\n",
              "  <matplotlib.lines.Line2D at 0x7f3330927dd0>],\n",
              " 'caps': [<matplotlib.lines.Line2D at 0x7f333092c350>,\n",
              "  <matplotlib.lines.Line2D at 0x7f333092c890>],\n",
              " 'boxes': [<matplotlib.lines.Line2D at 0x7f33309273d0>],\n",
              " 'medians': [<matplotlib.lines.Line2D at 0x7f333092ce10>],\n",
              " 'fliers': [<matplotlib.lines.Line2D at 0x7f3330933390>],\n",
              " 'means': []}"
            ]
          },
          "metadata": {},
          "execution_count": 566
        },
        {
          "output_type": "display_data",
          "data": {
            "text/plain": [
              "<Figure size 432x288 with 1 Axes>"
            ],
            "image/png": "[encoded data removed]"
          },
          "metadata": {
            "needs_background": "light"
          }
        }
      ]
    },
    {
      "cell_type": "markdown",
      "source": [
        "### Variable: Kurto"
      ],
      "metadata": {
        "id": "DUPSBBCoq2SU"
      }
    },
    {
      "cell_type": "code",
      "source": [
        "KarenApp.Kurto.hist()"
      ],
      "metadata": {
        "colab": {
          "base_uri": "https://localhost:8080/",
          "height": 282
        },
        "id": "Ud9mjy8lqztU",
        "outputId": "7d1d83db-2a3d-4c5a-9364-0b5327ff23de"
      },
      "execution_count": 567,
      "outputs": [
        {
          "output_type": "execute_result",
          "data": {
            "text/plain": [
              "<matplotlib.axes._subplots.AxesSubplot at 0x7f333094ded0>"
            ]
          },
          "metadata": {},
          "execution_count": 567
        },
        {
          "output_type": "display_data",
          "data": {
            "text/plain": [
              "<Figure size 432x288 with 1 Axes>"
            ],
            "image/png": "[encoded data removed]"
          },
          "metadata": {
            "needs_background": "light"
          }
        }
      ]
    },
    {
      "cell_type": "code",
      "source": [
        "plt.boxplot(KarenApp.Kurto)"
      ],
      "metadata": {
        "colab": {
          "base_uri": "https://localhost:8080/",
          "height": 404
        },
        "id": "3TrxfqHCq5Tg",
        "outputId": "364d5704-dadb-4197-8d6c-74c9b2b12816"
      },
      "execution_count": 568,
      "outputs": [
        {
          "output_type": "execute_result",
          "data": {
            "text/plain": [
              "{'whiskers': [<matplotlib.lines.Line2D at 0x7f333089c4d0>,\n",
              "  <matplotlib.lines.Line2D at 0x7f333089ca10>],\n",
              " 'caps': [<matplotlib.lines.Line2D at 0x7f333089cf50>,\n",
              "  <matplotlib.lines.Line2D at 0x7f33308224d0>],\n",
              " 'boxes': [<matplotlib.lines.Line2D at 0x7f3330893fd0>],\n",
              " 'medians': [<matplotlib.lines.Line2D at 0x7f3330822a50>],\n",
              " 'fliers': [<matplotlib.lines.Line2D at 0x7f3330822f90>],\n",
              " 'means': []}"
            ]
          },
          "metadata": {},
          "execution_count": 568
        },
        {
          "output_type": "display_data",
          "data": {
            "text/plain": [
              "<Figure size 432x288 with 1 Axes>"
            ],
            "image/png": "[encoded data removed]"
          },
          "metadata": {
            "needs_background": "light"
          }
        }
      ]
    },
    {
      "cell_type": "markdown",
      "source": [
        "### Variable: Entro"
      ],
      "metadata": {
        "id": "HaKRa5PxrJZn"
      }
    },
    {
      "cell_type": "code",
      "source": [
        "KarenApp.Entro.hist()"
      ],
      "metadata": {
        "colab": {
          "base_uri": "https://localhost:8080/",
          "height": 282
        },
        "id": "paMKsxlWrQV2",
        "outputId": "546b316c-a979-49e4-b61e-7872110cce0c"
      },
      "execution_count": 569,
      "outputs": [
        {
          "output_type": "execute_result",
          "data": {
            "text/plain": [
              "<matplotlib.axes._subplots.AxesSubplot at 0x7f3330893b90>"
            ]
          },
          "metadata": {},
          "execution_count": 569
        },
        {
          "output_type": "display_data",
          "data": {
            "text/plain": [
              "<Figure size 432x288 with 1 Axes>"
            ],
            "image/png": "[encoded data removed]"
          },
          "metadata": {
            "needs_background": "light"
          }
        }
      ]
    },
    {
      "cell_type": "code",
      "source": [
        "plt.boxplot(KarenApp.Entro)"
      ],
      "metadata": {
        "colab": {
          "base_uri": "https://localhost:8080/",
          "height": 404
        },
        "id": "zqOQtYhprZRx",
        "outputId": "57ecc4c5-61fd-4524-bdad-601b300924d2"
      },
      "execution_count": 570,
      "outputs": [
        {
          "output_type": "execute_result",
          "data": {
            "text/plain": [
              "{'whiskers': [<matplotlib.lines.Line2D at 0x7f333078a550>,\n",
              "  <matplotlib.lines.Line2D at 0x7f333078aa90>],\n",
              " 'caps': [<matplotlib.lines.Line2D at 0x7f333078afd0>,\n",
              "  <matplotlib.lines.Line2D at 0x7f3330792550>],\n",
              " 'boxes': [<matplotlib.lines.Line2D at 0x7f333078a090>],\n",
              " 'medians': [<matplotlib.lines.Line2D at 0x7f3330792ad0>],\n",
              " 'fliers': [<matplotlib.lines.Line2D at 0x7f333079a050>],\n",
              " 'means': []}"
            ]
          },
          "metadata": {},
          "execution_count": 570
        },
        {
          "output_type": "display_data",
          "data": {
            "text/plain": [
              "<Figure size 432x288 with 1 Axes>"
            ],
            "image/png": "[encoded data removed]"
          },
          "metadata": {
            "needs_background": "light"
          }
        }
      ]
    },
    {
      "cell_type": "markdown",
      "source": [
        "### Variable: Skewn"
      ],
      "metadata": {
        "id": "AYnftxqorWpn"
      }
    },
    {
      "cell_type": "code",
      "source": [
        "KarenApp.Skewn.hist()"
      ],
      "metadata": {
        "colab": {
          "base_uri": "https://localhost:8080/",
          "height": 282
        },
        "id": "4Fvooz6IrgdW",
        "outputId": "2c2720db-3303-466b-8c0d-6b55c065ca77"
      },
      "execution_count": 571,
      "outputs": [
        {
          "output_type": "execute_result",
          "data": {
            "text/plain": [
              "<matplotlib.axes._subplots.AxesSubplot at 0x7f33325ce2d0>"
            ]
          },
          "metadata": {},
          "execution_count": 571
        },
        {
          "output_type": "display_data",
          "data": {
            "text/plain": [
              "<Figure size 432x288 with 1 Axes>"
            ],
            "image/png": "[encoded data removed]"
          },
          "metadata": {
            "needs_background": "light"
          }
        }
      ]
    },
    {
      "cell_type": "code",
      "source": [
        "plt.boxplot(KarenApp.Skewn)"
      ],
      "metadata": {
        "colab": {
          "base_uri": "https://localhost:8080/",
          "height": 404
        },
        "id": "5zL2B806rjYv",
        "outputId": "736785b5-f6a3-4486-aecc-ce1159124886"
      },
      "execution_count": 572,
      "outputs": [
        {
          "output_type": "execute_result",
          "data": {
            "text/plain": [
              "{'whiskers': [<matplotlib.lines.Line2D at 0x7f333155ca90>,\n",
              "  <matplotlib.lines.Line2D at 0x7f333155c7d0>],\n",
              " 'caps': [<matplotlib.lines.Line2D at 0x7f333155ce90>,\n",
              "  <matplotlib.lines.Line2D at 0x7f33313eda10>],\n",
              " 'boxes': [<matplotlib.lines.Line2D at 0x7f3331c95090>],\n",
              " 'medians': [<matplotlib.lines.Line2D at 0x7f33313ed810>],\n",
              " 'fliers': [<matplotlib.lines.Line2D at 0x7f3331c8d190>],\n",
              " 'means': []}"
            ]
          },
          "metadata": {},
          "execution_count": 572
        },
        {
          "output_type": "display_data",
          "data": {
            "text/plain": [
              "<Figure size 432x288 with 1 Axes>"
            ],
            "image/png": "[encoded data removed]"
          },
          "metadata": {
            "needs_background": "light"
          }
        }
      ]
    },
    {
      "cell_type": "markdown",
      "source": [
        "### Variable: Picos"
      ],
      "metadata": {
        "id": "LlLSwRWNroMZ"
      }
    },
    {
      "cell_type": "code",
      "source": [
        "KarenApp.Picos.hist()"
      ],
      "metadata": {
        "colab": {
          "base_uri": "https://localhost:8080/",
          "height": 283
        },
        "id": "yNEy-DmorsJB",
        "outputId": "80049a8d-d319-4d20-97f6-630891519dee"
      },
      "execution_count": 573,
      "outputs": [
        {
          "output_type": "execute_result",
          "data": {
            "text/plain": [
              "<matplotlib.axes._subplots.AxesSubplot at 0x7f33312a90d0>"
            ]
          },
          "metadata": {},
          "execution_count": 573
        },
        {
          "output_type": "display_data",
          "data": {
            "text/plain": [
              "<Figure size 432x288 with 1 Axes>"
            ],
            "image/png": "[encoded data removed]"
          },
          "metadata": {
            "needs_background": "light"
          }
        }
      ]
    },
    {
      "cell_type": "code",
      "source": [
        "plt.boxplot(KarenApp.Picos)"
      ],
      "metadata": {
        "colab": {
          "base_uri": "https://localhost:8080/",
          "height": 404
        },
        "id": "JU6K7SCUrvYv",
        "outputId": "b090ca87-bef8-4a8f-e29a-9a0e10876aca"
      },
      "execution_count": 574,
      "outputs": [
        {
          "output_type": "execute_result",
          "data": {
            "text/plain": [
              "{'whiskers': [<matplotlib.lines.Line2D at 0x7f3331441110>,\n",
              "  <matplotlib.lines.Line2D at 0x7f3331d26e10>],\n",
              " 'caps': [<matplotlib.lines.Line2D at 0x7f3331d26ad0>,\n",
              "  <matplotlib.lines.Line2D at 0x7f3330746550>],\n",
              " 'boxes': [<matplotlib.lines.Line2D at 0x7f3331d8e7d0>],\n",
              " 'medians': [<matplotlib.lines.Line2D at 0x7f3330746e10>],\n",
              " 'fliers': [<matplotlib.lines.Line2D at 0x7f3331536390>],\n",
              " 'means': []}"
            ]
          },
          "metadata": {},
          "execution_count": 574
        },
        {
          "output_type": "display_data",
          "data": {
            "text/plain": [
              "<Figure size 432x288 with 1 Axes>"
            ],
            "image/png": "[encoded data removed]"
          },
          "metadata": {
            "needs_background": "light"
          }
        }
      ]
    },
    {
      "cell_type": "markdown",
      "source": [
        "### Variable: Umbral"
      ],
      "metadata": {
        "id": "rEcAoZorr_Ri"
      }
    },
    {
      "cell_type": "code",
      "source": [
        "KarenApp.Umbral.hist()"
      ],
      "metadata": {
        "colab": {
          "base_uri": "https://localhost:8080/",
          "height": 282
        },
        "id": "SfWYrxyzsD03",
        "outputId": "8690e7aa-2198-4ac5-b30c-c81e5f39617d"
      },
      "execution_count": 575,
      "outputs": [
        {
          "output_type": "execute_result",
          "data": {
            "text/plain": [
              "<matplotlib.axes._subplots.AxesSubplot at 0x7f333148b810>"
            ]
          },
          "metadata": {},
          "execution_count": 575
        },
        {
          "output_type": "display_data",
          "data": {
            "text/plain": [
              "<Figure size 432x288 with 1 Axes>"
            ],
            "image/png": "[encoded data removed]"
          },
          "metadata": {
            "needs_background": "light"
          }
        }
      ]
    },
    {
      "cell_type": "code",
      "source": [
        "plt.boxplot(KarenApp.Umbral)"
      ],
      "metadata": {
        "colab": {
          "base_uri": "https://localhost:8080/",
          "height": 404
        },
        "id": "7KZ0Qn8OsGUd",
        "outputId": "5d1d95f0-93f6-4c6c-842c-67a61aa8d66b"
      },
      "execution_count": 576,
      "outputs": [
        {
          "output_type": "execute_result",
          "data": {
            "text/plain": [
              "{'whiskers': [<matplotlib.lines.Line2D at 0x7f33306876d0>,\n",
              "  <matplotlib.lines.Line2D at 0x7f3330687c10>],\n",
              " 'caps': [<matplotlib.lines.Line2D at 0x7f333068e190>,\n",
              "  <matplotlib.lines.Line2D at 0x7f333068e6d0>],\n",
              " 'boxes': [<matplotlib.lines.Line2D at 0x7f3330687210>],\n",
              " 'medians': [<matplotlib.lines.Line2D at 0x7f333068ec50>],\n",
              " 'fliers': [<matplotlib.lines.Line2D at 0x7f33306961d0>],\n",
              " 'means': []}"
            ]
          },
          "metadata": {},
          "execution_count": 576
        },
        {
          "output_type": "display_data",
          "data": {
            "text/plain": [
              "<Figure size 432x288 with 1 Axes>"
            ],
            "image/png": "[encoded data removed]"
          },
          "metadata": {
            "needs_background": "light"
          }
        }
      ]
    },
    {
      "cell_type": "markdown",
      "source": [
        "# APLICACION DE LOS METODOS"
      ],
      "metadata": {
        "id": "hTU2GAPKjpvW"
      }
    },
    {
      "cell_type": "markdown",
      "metadata": {
        "id": "QKOQTh1PQUcF"
      },
      "source": [
        "# Metodo: Vecinos mas cercanos\n"
      ]
    },
    {
      "cell_type": "markdown",
      "source": [
        "Utilizamos el algoritmo de vecinos cercanos \"KNeighborsClassifier\" de la libreria **Sklearn** y le pasamos los parametros."
      ],
      "metadata": {
        "id": "pDMKycSSV_be"
      }
    },
    {
      "cell_type": "code",
      "source": [
        "from sklearn.neighbors import KNeighborsClassifier"
      ],
      "metadata": {
        "id": "pZ4uhi0Qt7BI"
      },
      "execution_count": 577,
      "outputs": []
    },
    {
      "cell_type": "code",
      "execution_count": 578,
      "metadata": {
        "id": "whtYz80tXMkE"
      },
      "outputs": [],
      "source": [
        "VecinosCercanos = KNeighborsClassifier(n_neighbors = 5, metric = \"minkowski\", p = 2)\n",
        "VecinosCercanos.fit(X,y)\n",
        "y_pred_inicial = VecinosCercanos.predict(X)"
      ]
    },
    {
      "cell_type": "markdown",
      "source": [
        "Con la ayuda de **Skalearn** sacamos la matriz de confusion y la imprimimos."
      ],
      "metadata": {
        "id": "v7s4YexhYMui"
      }
    },
    {
      "cell_type": "code",
      "source": [
        "from sklearn.metrics import confusion_matrix"
      ],
      "metadata": {
        "id": "posG9Vpit8ud"
      },
      "execution_count": 579,
      "outputs": []
    },
    {
      "cell_type": "code",
      "source": [
        "matriz_inicial = confusion_matrix(y, y_pred_inicial)\n",
        "matriz_inicial"
      ],
      "metadata": {
        "colab": {
          "base_uri": "https://localhost:8080/"
        },
        "id": "MZni_RXzXjj-",
        "outputId": "a0b521e8-0187-4ed3-8b35-62150979b42b"
      },
      "execution_count": 580,
      "outputs": [
        {
          "output_type": "execute_result",
          "data": {
            "text/plain": [
              "array([[773,  59],\n",
              "       [ 80, 280]])"
            ]
          },
          "metadata": {},
          "execution_count": 580
        }
      ]
    },
    {
      "cell_type": "markdown",
      "source": [
        "Nos ayudamos de la libreria **Sklearn** con la funsion *f1_score* le pasamos los paraemtros y se las asignamos a una variable para despues mostrar el score resultante."
      ],
      "metadata": {
        "id": "0iF9YyuBX3zg"
      }
    },
    {
      "cell_type": "code",
      "source": [
        "from sklearn.metrics import f1_score"
      ],
      "metadata": {
        "id": "dWhdunL9uAJ6"
      },
      "execution_count": 581,
      "outputs": []
    },
    {
      "cell_type": "code",
      "source": [
        "F1 = f1_score(y, y_pred_inicial)\n",
        "F1"
      ],
      "metadata": {
        "colab": {
          "base_uri": "https://localhost:8080/"
        },
        "id": "WxyTGq4PXsuu",
        "outputId": "b86e4aa6-0640-4af4-d976-31163bfffcf7"
      },
      "execution_count": 582,
      "outputs": [
        {
          "output_type": "execute_result",
          "data": {
            "text/plain": [
              "0.8011444921316166"
            ]
          },
          "metadata": {},
          "execution_count": 582
        }
      ]
    },
    {
      "cell_type": "markdown",
      "metadata": {
        "id": "j6wtO83Kf3NN"
      },
      "source": [
        "# Metodo: Regresion logistica"
      ]
    },
    {
      "cell_type": "markdown",
      "source": [
        "Importamos el aolgoritmo de **Skalearn** para la regresion logistica y la aplicamos. "
      ],
      "metadata": {
        "id": "Cmn2OzhIZimB"
      }
    },
    {
      "cell_type": "code",
      "source": [
        "from sklearn.linear_model import LogisticRegression"
      ],
      "metadata": {
        "id": "6S15cqiJtqhf"
      },
      "execution_count": 583,
      "outputs": []
    },
    {
      "cell_type": "code",
      "execution_count": 584,
      "metadata": {
        "id": "C_ilyzHzf2td",
        "colab": {
          "base_uri": "https://localhost:8080/"
        },
        "outputId": "29a76167-7ee9-4cd3-ec67-800ab625fa03"
      },
      "outputs": [
        {
          "output_type": "stream",
          "name": "stderr",
          "text": [
            "/usr/local/lib/python3.7/dist-packages/sklearn/linear_model/_logistic.py:818: ConvergenceWarning: lbfgs failed to converge (status=1):\n",
            "STOP: TOTAL NO. of ITERATIONS REACHED LIMIT.\n",
            "\n",
            "Increase the number of iterations (max_iter) or scale the data as shown in:\n",
            "    https://scikit-learn.org/stable/modules/preprocessing.html\n",
            "Please also refer to the documentation for alternative solver options:\n",
            "    https://scikit-learn.org/stable/modules/linear_model.html#logistic-regression\n",
            "  extra_warning_msg=_LOGISTIC_SOLVER_CONVERGENCE_MSG,\n"
          ]
        },
        {
          "output_type": "execute_result",
          "data": {
            "text/plain": [
              "LogisticRegression()"
            ]
          },
          "metadata": {},
          "execution_count": 584
        }
      ],
      "source": [
        "RegresionLogistica = LogisticRegression()\n",
        "RegresionLogistica.fit(X,y)"
      ]
    },
    {
      "cell_type": "markdown",
      "source": [
        "Nuevamente usamos el algoritmo de matriz de confusion para generarla."
      ],
      "metadata": {
        "id": "N54BFEVWZ7MQ"
      }
    },
    {
      "cell_type": "code",
      "source": [
        "matriz_inicial = confusion_matrix(y, y_pred_inicial)\n",
        "matriz_inicial"
      ],
      "metadata": {
        "colab": {
          "base_uri": "https://localhost:8080/"
        },
        "id": "SvPpwIg7Zu5k",
        "outputId": "557a0b0a-18f2-463e-9fd9-c536e34e5a26"
      },
      "execution_count": 585,
      "outputs": [
        {
          "output_type": "execute_result",
          "data": {
            "text/plain": [
              "array([[773,  59],\n",
              "       [ 80, 280]])"
            ]
          },
          "metadata": {},
          "execution_count": 585
        }
      ]
    },
    {
      "cell_type": "markdown",
      "source": [
        "Por ultimo obtenemos el \"f1_score\" con el algoritmo."
      ],
      "metadata": {
        "id": "R5uhLWxtaHdm"
      }
    },
    {
      "cell_type": "code",
      "source": [
        "F1 = f1_score(y, y_pred_inicial)\n",
        "F1"
      ],
      "metadata": {
        "colab": {
          "base_uri": "https://localhost:8080/"
        },
        "id": "o8V5i566Z0X_",
        "outputId": "43197629-fa31-4619-8607-0bb93e238778"
      },
      "execution_count": 586,
      "outputs": [
        {
          "output_type": "execute_result",
          "data": {
            "text/plain": [
              "0.8011444921316166"
            ]
          },
          "metadata": {},
          "execution_count": 586
        }
      ]
    },
    {
      "cell_type": "markdown",
      "metadata": {
        "id": "0IhrDUepp5sh"
      },
      "source": [
        "# Metodo: Ramdom forest"
      ]
    },
    {
      "cell_type": "markdown",
      "source": [
        "Con la libreria de **Sklearn** usamos el algoritmo de *RandomForestRegressor* para calcularlo."
      ],
      "metadata": {
        "id": "KFIl9flba_Pl"
      }
    },
    {
      "cell_type": "code",
      "source": [
        "from sklearn.ensemble import RandomForestClassifier, RandomForestRegressor"
      ],
      "metadata": {
        "id": "-717MLkluuvY"
      },
      "execution_count": 587,
      "outputs": []
    },
    {
      "cell_type": "code",
      "execution_count": 588,
      "metadata": {
        "id": "mKm9plzqMYcF"
      },
      "outputs": [],
      "source": [
        "regresion = RandomForestRegressor(n_estimators=20, random_state=0)\n",
        "Arboles_codigo = RandomForestClassifier(max_depth=14, random_state=0)\n",
        "Arboles_codigo.fit(X, y)\n",
        "\n",
        "y_pred_inicial = Arboles_codigo.predict(X)\n",
        "matriz_inicial = confusion_matrix(y, y_pred_inicial)"
      ]
    },
    {
      "cell_type": "markdown",
      "source": [
        "Sacamos la matrix de confusion."
      ],
      "metadata": {
        "id": "CFWioUBLbJ_K"
      }
    },
    {
      "cell_type": "code",
      "source": [
        "matriz_inicial = confusion_matrix(y, y_pred_inicial)\n",
        "matriz_inicial"
      ],
      "metadata": {
        "colab": {
          "base_uri": "https://localhost:8080/"
        },
        "id": "T2uBL2dsabqc",
        "outputId": "ece7dc13-8ba3-4d63-9596-18e82a246090"
      },
      "execution_count": 589,
      "outputs": [
        {
          "output_type": "execute_result",
          "data": {
            "text/plain": [
              "array([[832,   0],\n",
              "       [  0, 360]])"
            ]
          },
          "metadata": {},
          "execution_count": 589
        }
      ]
    },
    {
      "cell_type": "markdown",
      "source": [
        "Y calculamos el score."
      ],
      "metadata": {
        "id": "XSwnX98DbNlh"
      }
    },
    {
      "cell_type": "code",
      "source": [
        "F1 =f1_score(y, y_pred_inicial)\n",
        "F1"
      ],
      "metadata": {
        "colab": {
          "base_uri": "https://localhost:8080/"
        },
        "id": "NAb9kSf7afGB",
        "outputId": "53a954fb-0013-4660-88c3-ea78e32068de"
      },
      "execution_count": 590,
      "outputs": [
        {
          "output_type": "execute_result",
          "data": {
            "text/plain": [
              "1.0"
            ]
          },
          "metadata": {},
          "execution_count": 590
        }
      ]
    },
    {
      "cell_type": "markdown",
      "metadata": {
        "id": "b4z6v-TySpbo"
      },
      "source": [
        "# Metodo: adaboost"
      ]
    },
    {
      "cell_type": "markdown",
      "source": [
        "Con la ayuda de **Sklearn** aplicamos el ultimo metodo que es *adaboost*"
      ],
      "metadata": {
        "id": "rgN0t10ibdgv"
      }
    },
    {
      "cell_type": "code",
      "source": [
        "from sklearn.ensemble import AdaBoostClassifier"
      ],
      "metadata": {
        "id": "i-zZuo1Gu1Dx"
      },
      "execution_count": 591,
      "outputs": []
    },
    {
      "cell_type": "code",
      "execution_count": 592,
      "metadata": {
        "id": "nfHSx_rcNWQB"
      },
      "outputs": [],
      "source": [
        "algoritmo_Adaboost = AdaBoostClassifier(n_estimators=50,learning_rate=1)\n",
        "model = algoritmo_Adaboost.fit(X, y)\n",
        "y_pred_inicial = model.predict(X)"
      ]
    },
    {
      "cell_type": "markdown",
      "source": [
        "Con **skalern** *confusion_matrix* obtenemos la matriz de confusion."
      ],
      "metadata": {
        "id": "KAAOXHjAbt6b"
      }
    },
    {
      "cell_type": "code",
      "source": [
        "matriz_inicial = confusion_matrix(y, y_pred_inicial)\n",
        "matriz_inicial"
      ],
      "metadata": {
        "colab": {
          "base_uri": "https://localhost:8080/"
        },
        "id": "BdE81so5bWMh",
        "outputId": "3c987c00-2500-4adb-b9d4-c1eb4d828781"
      },
      "execution_count": 593,
      "outputs": [
        {
          "output_type": "execute_result",
          "data": {
            "text/plain": [
              "array([[763,  69],\n",
              "       [ 76, 284]])"
            ]
          },
          "metadata": {},
          "execution_count": 593
        }
      ]
    },
    {
      "cell_type": "markdown",
      "source": [
        "Calculamos el score obtenido para despues mostrarlo."
      ],
      "metadata": {
        "id": "0-j2bBPCb1vj"
      }
    },
    {
      "cell_type": "code",
      "source": [
        "F1 = f1_score(y, y_pred_inicial)\n",
        "F1"
      ],
      "metadata": {
        "colab": {
          "base_uri": "https://localhost:8080/"
        },
        "id": "iY49AVRgbYr8",
        "outputId": "c020d7b3-87af-4f5e-a415-8cef0430f7b9"
      },
      "execution_count": 594,
      "outputs": [
        {
          "output_type": "execute_result",
          "data": {
            "text/plain": [
              "0.7966339410939691"
            ]
          },
          "metadata": {},
          "execution_count": 594
        }
      ]
    },
    {
      "cell_type": "markdown",
      "metadata": {
        "id": "6MYdAq8fljbb"
      },
      "source": [
        "#VALIDACION DE LOS MODELOS"
      ]
    },
    {
      "cell_type": "markdown",
      "source": [
        "Una vez ya aplicados todos los modelos toca validarlos para saber cual de ellos es el mejor modelo."
      ],
      "metadata": {
        "id": "B2Vks1B8b_hl"
      }
    },
    {
      "cell_type": "markdown",
      "source": [
        "Vamos a creear una lista llamada \"F1_Scores\" donde almacenaremos todos los scores finales para despues imprimirlos y compararlos."
      ],
      "metadata": {
        "id": "Kl5cNClKpSl3"
      }
    },
    {
      "cell_type": "code",
      "source": [
        "F1_Scores = []"
      ],
      "metadata": {
        "id": "RUr9-gAoH0Rm"
      },
      "execution_count": 595,
      "outputs": []
    },
    {
      "cell_type": "markdown",
      "metadata": {
        "id": "QFSjewVkoXbF"
      },
      "source": [
        "## Validacion: Vecinos mas cercanos"
      ]
    },
    {
      "cell_type": "markdown",
      "source": [
        "Dividimos los arreglos o matrices en subconjuntos aleatorios de entrenamiento y prueba."
      ],
      "metadata": {
        "id": "x65pEup0j_6L"
      }
    },
    {
      "cell_type": "code",
      "execution_count": 596,
      "metadata": {
        "id": "OiSIbyJtH09V"
      },
      "outputs": [],
      "source": [
        "X_train, X_test, y_train, y_test = train_test_split(X, y, test_size=0.2)"
      ]
    },
    {
      "cell_type": "markdown",
      "source": [
        "En este paso estandarizamos las características eliminando la media y escalando a la varianza de la unidad."
      ],
      "metadata": {
        "id": "qk5NGHprqlis"
      }
    },
    {
      "cell_type": "code",
      "source": [
        "escalar = StandardScaler()"
      ],
      "metadata": {
        "id": "VgTnubUTpECA"
      },
      "execution_count": 597,
      "outputs": []
    },
    {
      "cell_type": "markdown",
      "source": [
        "Aqui ajustamos los datos y luego los trasnformamos."
      ],
      "metadata": {
        "id": "E-MGCnKPqyHC"
      }
    },
    {
      "cell_type": "code",
      "source": [
        "X_train = escalar.fit_transform(X_train)\n",
        "X_test = escalar.transform(X_test)"
      ],
      "metadata": {
        "id": "QqiB2VqDpFIH"
      },
      "execution_count": 598,
      "outputs": []
    },
    {
      "cell_type": "markdown",
      "source": [
        "Ajustamos el clasificador de k vecinos más cercanos del conjunto de datos de entrenamiento."
      ],
      "metadata": {
        "id": "nffZPCRaq9Si"
      }
    },
    {
      "cell_type": "code",
      "source": [
        "VecinosCercanos.fit(X_train, y_train)\n",
        "y_pred = VecinosCercanos.predict(X_test)"
      ],
      "metadata": {
        "id": "xdc92bk9pGXm"
      },
      "execution_count": 599,
      "outputs": []
    },
    {
      "cell_type": "markdown",
      "source": [
        "Generamos e imprimimos la mtriz de confusion."
      ],
      "metadata": {
        "id": "Kfi2jNmGrBFX"
      }
    },
    {
      "cell_type": "code",
      "source": [
        "matriz = confusion_matrix(y_test, y_pred)\n",
        "matriz"
      ],
      "metadata": {
        "colab": {
          "base_uri": "https://localhost:8080/"
        },
        "id": "x8gK9JRakUI_",
        "outputId": "5d26e4ae-7765-4adb-f510-b388af988fcb"
      },
      "execution_count": 600,
      "outputs": [
        {
          "output_type": "execute_result",
          "data": {
            "text/plain": [
              "array([[160,  17],\n",
              "       [ 16,  46]])"
            ]
          },
          "metadata": {},
          "execution_count": 600
        }
      ]
    },
    {
      "cell_type": "markdown",
      "source": [
        "Obtenemos el score y almacenamos en la lista previamente creada."
      ],
      "metadata": {
        "id": "jIU_1mmurEh0"
      }
    },
    {
      "cell_type": "code",
      "source": [
        "F1 = f1_score(y_test, y_pred)\n",
        "F1_Scores.append(F1)\n",
        "F1"
      ],
      "metadata": {
        "colab": {
          "base_uri": "https://localhost:8080/"
        },
        "id": "xxsQBr-vkOel",
        "outputId": "afba0e5f-ab90-48be-ce1e-ebd8c27579a9"
      },
      "execution_count": 601,
      "outputs": [
        {
          "output_type": "execute_result",
          "data": {
            "text/plain": [
              "0.736"
            ]
          },
          "metadata": {},
          "execution_count": 601
        }
      ]
    },
    {
      "cell_type": "markdown",
      "metadata": {
        "id": "oDkh-5co8mDf"
      },
      "source": [
        "## Validacion: Regresion logistica"
      ]
    },
    {
      "cell_type": "markdown",
      "source": [
        "Validamos la regresion logistica"
      ],
      "metadata": {
        "id": "mfjqSpxCtbg5"
      }
    },
    {
      "cell_type": "code",
      "source": [
        "X_train, X_test, y_train, y_test = train_test_split(X, y, test_size=0.2)"
      ],
      "metadata": {
        "id": "o8ri1MVintvL"
      },
      "execution_count": 602,
      "outputs": []
    },
    {
      "cell_type": "markdown",
      "source": [
        "Estandarizamos las características eliminando la media y escalando a la varianza de la unidad."
      ],
      "metadata": {
        "id": "QquzMqaVtgr6"
      }
    },
    {
      "cell_type": "code",
      "source": [
        "escalar = StandardScaler()"
      ],
      "metadata": {
        "id": "TauJQMSinv93"
      },
      "execution_count": 603,
      "outputs": []
    },
    {
      "cell_type": "markdown",
      "source": [
        "Ajustamos los datos y luego los trasnformamos."
      ],
      "metadata": {
        "id": "3vpIQyZAtnZm"
      }
    },
    {
      "cell_type": "code",
      "source": [
        "X_train = escalar.fit_transform(X_train)\n",
        "X_test = escalar.transform(X_test)"
      ],
      "metadata": {
        "id": "q1owaDtLnxQV"
      },
      "execution_count": 604,
      "outputs": []
    },
    {
      "cell_type": "markdown",
      "source": [
        "Se hace el ajuste del modelo de acuerdo con los datos de entrenamiento dados."
      ],
      "metadata": {
        "id": "2sGpsIt4txsb"
      }
    },
    {
      "cell_type": "code",
      "execution_count": 605,
      "metadata": {
        "id": "OYVLBlLvJbu8"
      },
      "outputs": [],
      "source": [
        "RegresionLogistica.fit(X_train, y_train)\n",
        "y_pred = RegresionLogistica.predict(X_test)"
      ]
    },
    {
      "cell_type": "markdown",
      "source": [
        "Generamos y mostramos la matriz de confusion."
      ],
      "metadata": {
        "id": "_TraefJjt56j"
      }
    },
    {
      "cell_type": "code",
      "source": [
        "matriz = confusion_matrix(y_test, y_pred)\n",
        "matriz"
      ],
      "metadata": {
        "colab": {
          "base_uri": "https://localhost:8080/"
        },
        "id": "o7lHRdp_nnFk",
        "outputId": "da5c49ee-cf92-4c89-c9bf-9f15d49544fb"
      },
      "execution_count": 606,
      "outputs": [
        {
          "output_type": "execute_result",
          "data": {
            "text/plain": [
              "array([[140,  21],\n",
              "       [ 22,  56]])"
            ]
          },
          "metadata": {},
          "execution_count": 606
        }
      ]
    },
    {
      "cell_type": "markdown",
      "source": [
        "Y este es el score obtenido, hay que guardarlo en la lista."
      ],
      "metadata": {
        "id": "aqg4SzmYt-V-"
      }
    },
    {
      "cell_type": "code",
      "source": [
        "F1 = f1_score(y_test, y_pred)\n",
        "F1_Scores.append(F1)\n",
        "F1"
      ],
      "metadata": {
        "colab": {
          "base_uri": "https://localhost:8080/"
        },
        "id": "XDNO-6lxnlm0",
        "outputId": "df0dd258-bf2d-43c7-c444-78f1a8a82991"
      },
      "execution_count": 607,
      "outputs": [
        {
          "output_type": "execute_result",
          "data": {
            "text/plain": [
              "0.7225806451612903"
            ]
          },
          "metadata": {},
          "execution_count": 607
        }
      ]
    },
    {
      "cell_type": "markdown",
      "metadata": {
        "id": "k7jfbv8p8_kc"
      },
      "source": [
        "## Validacion: Ramdom forest"
      ]
    },
    {
      "cell_type": "markdown",
      "source": [
        "Validacion del modelo\n"
      ],
      "metadata": {
        "id": "SNhDBWUwoL88"
      }
    },
    {
      "cell_type": "code",
      "source": [
        "X_train, X_test, y_train, y_test = train_test_split(X, y, test_size=0.3, random_state=44)"
      ],
      "metadata": {
        "id": "BUFOOe3XoNDq"
      },
      "execution_count": 608,
      "outputs": []
    },
    {
      "cell_type": "markdown",
      "source": [
        "Construimos un bosque de árboles a partir del conjunto de entrenamiento (X, y)."
      ],
      "metadata": {
        "id": "c5aKJaWk0-B9"
      }
    },
    {
      "cell_type": "code",
      "source": [
        "regresion.fit(X_train, y_train)"
      ],
      "metadata": {
        "colab": {
          "base_uri": "https://localhost:8080/"
        },
        "id": "T9GGE2vcpKNw",
        "outputId": "956cad71-9933-4c6b-aa2e-887e6578f851"
      },
      "execution_count": 609,
      "outputs": [
        {
          "output_type": "execute_result",
          "data": {
            "text/plain": [
              "RandomForestRegressor(n_estimators=20, random_state=0)"
            ]
          },
          "metadata": {},
          "execution_count": 609
        }
      ]
    },
    {
      "cell_type": "markdown",
      "source": [
        "Predecimos el objetivo de regresión para X.\n",
        "\n",
        "El objetivo de regresión pronosticado de una muestra de entrada se calcula como el promedio de los objetivos de regresión pronosticados de los árboles en el bosque."
      ],
      "metadata": {
        "id": "a46vTUFF1Ay4"
      }
    },
    {
      "cell_type": "code",
      "source": [
        "y_pred = regresion.predict(X_test)\n",
        "y_pred = Arboles_codigo.predict(X_test)"
      ],
      "metadata": {
        "id": "Njfr9dVApLSV"
      },
      "execution_count": 610,
      "outputs": []
    },
    {
      "cell_type": "markdown",
      "source": [
        "Sacamos la matriz de confusion."
      ],
      "metadata": {
        "id": "QV8wOljr1ShP"
      }
    },
    {
      "cell_type": "code",
      "source": [
        "matriz = confusion_matrix(y_test, y_pred)\n",
        "matriz"
      ],
      "metadata": {
        "colab": {
          "base_uri": "https://localhost:8080/"
        },
        "id": "F05mYa8eoR-P",
        "outputId": "9cb53476-c92d-4106-f9b0-209597e0d607"
      },
      "execution_count": 611,
      "outputs": [
        {
          "output_type": "execute_result",
          "data": {
            "text/plain": [
              "array([[265,   0],\n",
              "       [  0,  93]])"
            ]
          },
          "metadata": {},
          "execution_count": 611
        }
      ]
    },
    {
      "cell_type": "markdown",
      "source": [
        "Guardamos y mostramos el score."
      ],
      "metadata": {
        "id": "VvfKwduh1VHE"
      }
    },
    {
      "cell_type": "code",
      "source": [
        "F1 =f1_score(y_test, y_pred)\n",
        "F1_Scores.append(F1)\n",
        "F1"
      ],
      "metadata": {
        "colab": {
          "base_uri": "https://localhost:8080/"
        },
        "id": "o2zhNzk1oOkL",
        "outputId": "bd94392e-677e-4451-a6ba-0a28418eaf41"
      },
      "execution_count": 612,
      "outputs": [
        {
          "output_type": "execute_result",
          "data": {
            "text/plain": [
              "1.0"
            ]
          },
          "metadata": {},
          "execution_count": 612
        }
      ]
    },
    {
      "cell_type": "markdown",
      "source": [
        "El mejor score hasta ahora."
      ],
      "metadata": {
        "id": "ldhYtw3j1YX4"
      }
    },
    {
      "cell_type": "markdown",
      "metadata": {
        "id": "HkbWU5s09F7z"
      },
      "source": [
        "## Validacion: Adaboost"
      ]
    },
    {
      "cell_type": "markdown",
      "source": [
        "Hacemos la validacion."
      ],
      "metadata": {
        "id": "4hDikZNN1gL2"
      }
    },
    {
      "cell_type": "code",
      "source": [
        "X_train, X_test, y_train, y_test = train_test_split(X, y, test_size=0.2)"
      ],
      "metadata": {
        "id": "p2DzuaXJo7aH"
      },
      "execution_count": 613,
      "outputs": []
    },
    {
      "cell_type": "markdown",
      "source": [
        "Aqui estandarice las características eliminando la media y escalando a la varianza de la unidad."
      ],
      "metadata": {
        "id": "c7V7uWd21icq"
      }
    },
    {
      "cell_type": "code",
      "source": [
        "escalar = StandardScaler()"
      ],
      "metadata": {
        "id": "MP5J5Upso8NM"
      },
      "execution_count": 614,
      "outputs": []
    },
    {
      "cell_type": "markdown",
      "source": [
        "Ajustamos los datos y luego los trasnformamos sobre los conjuntos."
      ],
      "metadata": {
        "id": "I3ENT1a712ke"
      }
    },
    {
      "cell_type": "code",
      "source": [
        "X_train = escalar.fit_transform(X_train)\n",
        "X_test = escalar.transform(X_test)"
      ],
      "metadata": {
        "id": "VPfjaLmro9U9"
      },
      "execution_count": 615,
      "outputs": []
    },
    {
      "cell_type": "markdown",
      "source": [
        "Construimos un bosque de árboles a partir del conjunto de entrenamiento (X, y)."
      ],
      "metadata": {
        "id": "y01lJSG_18_r"
      }
    },
    {
      "cell_type": "code",
      "execution_count": 616,
      "metadata": {
        "id": "K3gftgaaR3u_"
      },
      "outputs": [],
      "source": [
        "model = algoritmo_Adaboost.fit(X_train, y_train)\n",
        "y_pred = model.predict(X_test)"
      ]
    },
    {
      "cell_type": "markdown",
      "source": [
        "Como siempre generamos la matrix de confusion con \"confusion_matrix\"."
      ],
      "metadata": {
        "id": "oINA-7Wn2Dgi"
      }
    },
    {
      "cell_type": "code",
      "source": [
        "matriz = confusion_matrix(y_test, y_pred)\n",
        "matriz"
      ],
      "metadata": {
        "colab": {
          "base_uri": "https://localhost:8080/"
        },
        "id": "PbSRm2Uyo4z9",
        "outputId": "925929bb-d247-44a4-c9b3-8f0362b2cb50"
      },
      "execution_count": 617,
      "outputs": [
        {
          "output_type": "execute_result",
          "data": {
            "text/plain": [
              "array([[157,  20],\n",
              "       [ 20,  42]])"
            ]
          },
          "metadata": {},
          "execution_count": 617
        }
      ]
    },
    {
      "cell_type": "markdown",
      "source": [
        "Guardamos el score y lo imprimimos."
      ],
      "metadata": {
        "id": "p-0ZNC0U2KaX"
      }
    },
    {
      "cell_type": "code",
      "source": [
        "F1 =f1_score(y_test, y_pred)\n",
        "F1_Scores.append(F1)\n",
        "F1"
      ],
      "metadata": {
        "colab": {
          "base_uri": "https://localhost:8080/"
        },
        "id": "TXL-3EM9o1xt",
        "outputId": "054c204b-020b-498d-be26-6bc42d874040"
      },
      "execution_count": 618,
      "outputs": [
        {
          "output_type": "execute_result",
          "data": {
            "text/plain": [
              "0.6774193548387096"
            ]
          },
          "metadata": {},
          "execution_count": 618
        }
      ]
    },
    {
      "cell_type": "markdown",
      "source": [
        "# COMPARACION DE LOS MODELOS"
      ],
      "metadata": {
        "id": "xsu81t6Dlf0T"
      }
    },
    {
      "cell_type": "code",
      "source": [
        "print(\"El Score de vecinos mas cercanos es: \", F1_Scores[0])"
      ],
      "metadata": {
        "colab": {
          "base_uri": "https://localhost:8080/"
        },
        "id": "qTFue1Asllyg",
        "outputId": "4d2579b5-daf0-4298-8de9-fbbda1525503"
      },
      "execution_count": 619,
      "outputs": [
        {
          "output_type": "stream",
          "name": "stdout",
          "text": [
            "El Score de vecinos mas cercanos es:  0.736\n"
          ]
        }
      ]
    },
    {
      "cell_type": "code",
      "source": [
        "print(\"El Score de regresion logistica es: \", F1_Scores[1])"
      ],
      "metadata": {
        "colab": {
          "base_uri": "https://localhost:8080/"
        },
        "id": "JBSq83vKmgG3",
        "outputId": "0d21ced9-dfa2-4e72-851c-14736197057d"
      },
      "execution_count": 620,
      "outputs": [
        {
          "output_type": "stream",
          "name": "stdout",
          "text": [
            "El Score de regresion logistica es:  0.7225806451612903\n"
          ]
        }
      ]
    },
    {
      "cell_type": "code",
      "source": [
        "print(\"El Score de ramdom forest es: \", F1_Scores[2])"
      ],
      "metadata": {
        "colab": {
          "base_uri": "https://localhost:8080/"
        },
        "id": "PwZHHfcSmgcY",
        "outputId": "151f1ed3-5f81-4b3a-852a-4a18dd2406ad"
      },
      "execution_count": 621,
      "outputs": [
        {
          "output_type": "stream",
          "name": "stdout",
          "text": [
            "El Score de ramdom forest es:  1.0\n"
          ]
        }
      ]
    },
    {
      "cell_type": "code",
      "source": [
        "print(\"El Score de adaboost es: \", F1_Scores[3])"
      ],
      "metadata": {
        "colab": {
          "base_uri": "https://localhost:8080/"
        },
        "id": "tw11KR_mmtJL",
        "outputId": "5bdc56c8-e81a-463d-8cc1-da687524e264"
      },
      "execution_count": 622,
      "outputs": [
        {
          "output_type": "stream",
          "name": "stdout",
          "text": [
            "El Score de adaboost es:  0.6774193548387096\n"
          ]
        }
      ]
    },
    {
      "cell_type": "markdown",
      "source": [
        "# GRAFICACION DEL MEJOR MODELO"
      ],
      "metadata": {
        "id": "jtJ77NFSvV5Y"
      }
    },
    {
      "cell_type": "markdown",
      "source": [
        "Podemos observar que \"Ramdom forest\" es el ganador."
      ],
      "metadata": {
        "id": "QFPr07Lg2_dg"
      }
    },
    {
      "cell_type": "code",
      "source": [
        "KN = F1_Scores[0]\n",
        "LR = F1_Scores[1]\n",
        "RF = F1_Scores[2]\n",
        "AD = F1_Scores[3]\n",
        "\n",
        "plt.boxplot(KN)\n",
        "plt.boxplot(LR)\n",
        "plt.boxplot(RF)\n",
        "plt.boxplot(AD)"
      ],
      "metadata": {
        "colab": {
          "base_uri": "https://localhost:8080/",
          "height": 404
        },
        "id": "_xQ0voUIvVfM",
        "outputId": "0dd1cb30-4bba-49a5-cb5f-d6ef90386b70"
      },
      "execution_count": 623,
      "outputs": [
        {
          "output_type": "execute_result",
          "data": {
            "text/plain": [
              "{'whiskers': [<matplotlib.lines.Line2D at 0x7f33305d2750>,\n",
              "  <matplotlib.lines.Line2D at 0x7f33305d2c90>],\n",
              " 'caps': [<matplotlib.lines.Line2D at 0x7f33305d8210>,\n",
              "  <matplotlib.lines.Line2D at 0x7f33305d8750>],\n",
              " 'boxes': [<matplotlib.lines.Line2D at 0x7f33305d21d0>],\n",
              " 'medians': [<matplotlib.lines.Line2D at 0x7f33305d8c90>],\n",
              " 'fliers': [<matplotlib.lines.Line2D at 0x7f3330561210>],\n",
              " 'means': []}"
            ]
          },
          "metadata": {},
          "execution_count": 623
        },
        {
          "output_type": "display_data",
          "data": {
            "text/plain": [
              "<Figure size 432x288 with 1 Axes>"
            ],
            "image/png": "[encoded data removed]"
          },
          "metadata": {
            "needs_background": "light"
          }
        }
      ]
    },
    {
      "cell_type": "markdown",
      "source": [
        "# CONCLUSION Y ELECION DEL MODELO"
      ],
      "metadata": {
        "id": "82z6iUHRmyCo"
      }
    },
    {
      "cell_type": "markdown",
      "source": [
        "Vemos que el metodo de \"Ramdom forest\" es la mejor porque nos da 1.0 y es el mayor de todos los que evaluamos, por lo tanto nos quedaremos con ese."
      ],
      "metadata": {
        "id": "RAyE35bNm3xx"
      }
    }
  ],
  "metadata": {
    "colab": {
      "collapsed_sections": [],
      "provenance": []
    },
    "kernelspec": {
      "display_name": "Python 3",
      "name": "python3"
    },
    "language_info": {
      "name": "python"
    }
  },
  "nbformat": 4,
  "nbformat_minor": 0
}