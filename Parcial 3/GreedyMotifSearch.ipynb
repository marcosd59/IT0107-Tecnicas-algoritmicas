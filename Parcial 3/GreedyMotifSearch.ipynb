{
  "cells": [
    {
      "cell_type": "code",
      "execution_count": 17,
      "metadata": {
        "id": "Z0l-0dqWjD_w"
      },
      "outputs": [],
      "source": [
        "###############################################################\n",
        "#     File Name           :     GreedyMotifSearch.py\n",
        "#     Created By          :     Marcos Damian Pool Canul\n",
        "#     Creation Date       :     [2022-11-19 17:10]\n",
        "#     Last Modified       :     [2022-11-26 22:10]\n",
        "#     Description         :     Find the best motif in DNA\n",
        "#################################################################"
      ]
    },
    {
      "cell_type": "code",
      "execution_count": 18,
      "metadata": {
        "id": "VQkapaHbjIWK"
      },
      "outputs": [],
      "source": [
        "def matriz_perfilamiento(motifs):\n",
        "    t = len(motifs)\n",
        "    k = len(motifs[0])\n",
        "    profile_matrix = {\n",
        "        'a': [],\n",
        "        'c': [],\n",
        "        'g': [],\n",
        "        't': [],\n",
        "    }\n",
        "\n",
        "    for j in range(k):\n",
        "        A_count = 0\n",
        "        C_count = 0\n",
        "        G_count = 0\n",
        "        T_count = 0\n",
        "\n",
        "        for i in range(t):\n",
        "            if motifs[i][j] == 'a':\n",
        "                A_count += 1\n",
        "            elif motifs[i][j] == 'c':\n",
        "                C_count += 1\n",
        "            elif motifs[i][j] == 'g':\n",
        "                G_count += 1\n",
        "            else:\n",
        "                T_count += 1\n",
        "\n",
        "        profile_matrix['a'].append(A_count / t)\n",
        "        profile_matrix['c'].append(C_count / t)\n",
        "        profile_matrix['g'].append(G_count / t)\n",
        "        profile_matrix['t'].append(T_count / t)\n",
        "\n",
        "    return profile_matrix"
      ]
    },
    {
      "cell_type": "code",
      "execution_count": 19,
      "metadata": {
        "id": "zNfVQQLvjLAp"
      },
      "outputs": [],
      "source": [
        "def profile_most_probable_kmer(profile_matrix, text, k):\n",
        "    max_probability = -9999999\n",
        "    most_probable_kmer = ''\n",
        "\n",
        "    for i in range(len(text) - k + 1):\n",
        "        probability = 1\n",
        "        s = text[i:i + k]\n",
        "\n",
        "        for j in range(len(s)):\n",
        "            probability = probability * profile_matrix[s[j]][j]\n",
        "\n",
        "        if probability > max_probability:\n",
        "            max_probability = probability\n",
        "            most_probable_kmer = s\n",
        "\n",
        "    return most_probable_kmer"
      ]
    },
    {
      "cell_type": "code",
      "execution_count": 20,
      "metadata": {
        "id": "gdjSloncjMtW"
      },
      "outputs": [],
      "source": [
        "def score(motifs):\n",
        "    score = 0\n",
        "    k = len(motifs[0])\n",
        "    t = len(motifs)\n",
        "\n",
        "    for j in range(k):\n",
        "        A_count = 0\n",
        "        C_count = 0\n",
        "        G_count = 0\n",
        "        T_count = 0\n",
        "\n",
        "        for i in range(t):\n",
        "            if motifs[i][j] == 'a':\n",
        "                A_count += 1\n",
        "            elif motifs[i][j] == 'c':\n",
        "                C_count += 1\n",
        "            elif motifs[i][j] == 'g':\n",
        "                G_count += 1\n",
        "            else:\n",
        "                T_count += 1\n",
        "        mx = max(A_count, max(C_count, max(G_count, T_count)))\n",
        "        score += t - mx\n",
        "\n",
        "        # no.of rows - maximum count among a, t, g, c gives you the score of a column\n",
        "    return score"
      ]
    },
    {
      "cell_type": "code",
      "execution_count": 21,
      "metadata": {
        "id": "H4bzQShNjOmc"
      },
      "outputs": [],
      "source": [
        "def greedy_motif_search(DNA, k, t):\n",
        "    best_motifs = []\n",
        "\n",
        "    for i in range(len(DNA)):\n",
        "        best_motifs.append((DNA[i])[0:k])\n",
        "\n",
        "    for i in range(len(DNA[0]) - k + 1):\n",
        "\n",
        "        # greedy motif matrix\n",
        "        motifs = [(DNA[0])[i:i + k]]\n",
        "\n",
        "        for j in range(1, t):\n",
        "\n",
        "            profile_matrix = matriz_perfilamiento(motifs)\n",
        "\n",
        "            motif = profile_most_probable_kmer(profile_matrix, DNA[j], k)\n",
        "            motifs.append(motif)\n",
        "\n",
        "        if score(motifs) < score(best_motifs):\n",
        "            best_motifs = motifs\n",
        "\n",
        "    return best_motifs"
      ]
    },
    {
      "cell_type": "code",
      "execution_count": 22,
      "metadata": {
        "colab": {
          "base_uri": "https://localhost:8080/"
        },
        "id": "qKsCgJuBjBGv",
        "outputId": "94c8e569-2d78-4962-bc49-e60ba69c3cd6"
      },
      "outputs": [
        {
          "data": {
            "text/plain": [
              "['cggggcgattacatatgcaactgggtcgtcacattcccctttcgata',\n",
              " 'tttgagggtgcccagattacaataaatgcaactccaaagcggacaaa',\n",
              " 'ggatgcaactggattacaatgccgtttgacgacctaaatcaacggcc',\n",
              " 'aaggatgcaactccaggagcgcctttgcgattacatggttctacctg',\n",
              " 'aattttctaaaaagattataatgtcggtccatgcgattacaaacttc',\n",
              " 'ctgctgtacaactgattacagagatcatgctgcatgcaactttcaac',\n",
              " 'tacatgatcttttgatgcaactgattacatggatgagggaatgatgc']"
            ]
          },
          "execution_count": 22,
          "metadata": {},
          "output_type": "execute_result"
        }
      ],
      "source": [
        "t = 7\n",
        "n = 48\n",
        "l = 7\n",
        "\n",
        "ADN = []\n",
        "\n",
        "with open(\"./data.txt\") as fname:\n",
        "\tlineas = fname.readlines()\n",
        "\tfor linea in lineas:\n",
        "\t\tADN.append(linea.strip('\\n'))\n",
        "\n",
        "ADN"
      ]
    },
    {
      "cell_type": "code",
      "execution_count": 23,
      "metadata": {
        "id": "66eLcowGi5j8"
      },
      "outputs": [],
      "source": [
        "best_motifs = greedy_motif_search(ADN, l, t)"
      ]
    },
    {
      "cell_type": "code",
      "execution_count": 24,
      "metadata": {
        "colab": {
          "base_uri": "https://localhost:8080/"
        },
        "id": "532NOtfijZaN",
        "outputId": "38438f5b-7b0c-44fc-8143-b7c87147c343"
      },
      "outputs": [
        {
          "name": "stdout",
          "output_type": "stream",
          "text": [
            "atgcaact - Score: 5\n",
            "atgcaact - Score: 5\n",
            "atgcaact - Score: 5\n",
            "atgcaact - Score: 5\n",
            "aattttct - Score: 3\n",
            "atgcaact - Score: 5\n",
            "atgcaact - Score: 5\n"
          ]
        }
      ],
      "source": [
        "for motif in best_motifs:\n",
        "    print(motif, \"- Score:\", score(motif))"
      ]
    }
  ],
  "metadata": {
    "colab": {
      "provenance": []
    },
    "kernelspec": {
      "display_name": "Python 3.9.2 64-bit",
      "language": "python",
      "name": "python3"
    },
    "language_info": {
      "codemirror_mode": {
        "name": "ipython",
        "version": 3
      },
      "file_extension": ".py",
      "mimetype": "text/x-python",
      "name": "python",
      "nbconvert_exporter": "python",
      "pygments_lexer": "ipython3",
      "version": "3.9.2"
    },
    "vscode": {
      "interpreter": {
        "hash": "00ff9db9870ec9f1423bc268ca660a602054e7415f81d5798dee84cbde947ffd"
      }
    }
  },
  "nbformat": 4,
  "nbformat_minor": 0
}
