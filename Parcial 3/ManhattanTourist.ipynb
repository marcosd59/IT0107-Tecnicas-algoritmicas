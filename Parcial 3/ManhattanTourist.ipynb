{
 "cells": [
  {
   "cell_type": "code",
   "execution_count": 34,
   "metadata": {},
   "outputs": [],
   "source": [
    "def ManhattanTourist(WDown, WRight, n, m):\n",
    "\n",
    "    s = []\n",
    "\n",
    "    # Creacion de una matriz nula.\n",
    "    for i in range(n):\n",
    "        s.append([])\n",
    "        for j in range(m):\n",
    "            s[i].append(0)\n",
    "\n",
    "    # Llenado de posicion nx0\n",
    "    for i in range(1, n):\n",
    "        s[i][0] = s[i-1][0] + WDown[i][0]\n",
    "\n",
    "    # Llenado de posicion 0xm\n",
    "    for j in range(1, n):\n",
    "        s[0][j] = s[0][j-1] + WRight[0][j]\n",
    "\n",
    "    # Buscando la mejor ruta.\n",
    "\n",
    "    for i in range(1, n):\n",
    "        for j in range(1, m):\n",
    "            SDown = s[i-1][j] + WDown[i][j]\n",
    "            SRight = s[i][j-1] + WRight[i][j]\n",
    "            if (SDown >= SRight):\n",
    "                s[i][j] = SDown\n",
    "            else:\n",
    "                s[i][j] = SRight\n",
    "\n",
    "    # impresion de la matrix resultante.\n",
    "    for elem in s:\n",
    "        print(elem)\n",
    "\n",
    "    # Regresa el camino con mayor score.\n",
    "    return s[n-1][m-1]"
   ]
  },
  {
   "cell_type": "code",
   "execution_count": 35,
   "metadata": {},
   "outputs": [],
   "source": [
    "\n",
    "WDown = [[0, 0, 0, 0, 0],\n",
    "         [1, 0, 2, 4, 3],\n",
    "         [4, 6, 5, 2, 1],\n",
    "         [4, 4, 5, 2, 1],\n",
    "         [5, 6, 8, 5, 3]]\n",
    "\n",
    "WRight = [[0, 3, 2, 4, 0],\n",
    "          [0, 3, 2, 4, 2],\n",
    "          [0, 0, 7, 3, 4],\n",
    "          [0, 3, 3, 0, 2],\n",
    "          [0, 1, 3, 2, 2]]"
   ]
  },
  {
   "cell_type": "code",
   "execution_count": 36,
   "metadata": {},
   "outputs": [],
   "source": [
    "n = 5\n",
    "m = 5"
   ]
  },
  {
   "cell_type": "code",
   "execution_count": 37,
   "metadata": {},
   "outputs": [
    {
     "name": "stdout",
     "output_type": "stream",
     "text": [
      "[0, 3, 5, 9, 9]\n",
      "[1, 4, 7, 13, 15]\n",
      "[5, 10, 17, 20, 24]\n",
      "[9, 14, 22, 22, 25]\n",
      "[14, 20, 30, 32, 34]\n"
     ]
    }
   ],
   "source": [
    "Max = ManhattanTourist(WDown, WRight, n, m)"
   ]
  },
  {
   "cell_type": "code",
   "execution_count": 38,
   "metadata": {},
   "outputs": [
    {
     "name": "stdout",
     "output_type": "stream",
     "text": [
      "El mejor camino tiene un valor de: 34\n"
     ]
    }
   ],
   "source": [
    "print('El mejor camino tiene un valor de:', Max)"
   ]
  }
 ],
 "metadata": {
  "kernelspec": {
   "display_name": "Python 3.9.2 64-bit",
   "language": "python",
   "name": "python3"
  },
  "language_info": {
   "codemirror_mode": {
    "name": "ipython",
    "version": 3
   },
   "file_extension": ".py",
   "mimetype": "text/x-python",
   "name": "python",
   "nbconvert_exporter": "python",
   "pygments_lexer": "ipython3",
   "version": "3.9.2"
  },
  "orig_nbformat": 4,
  "vscode": {
   "interpreter": {
    "hash": "00ff9db9870ec9f1423bc268ca660a602054e7415f81d5798dee84cbde947ffd"
   }
  }
 },
 "nbformat": 4,
 "nbformat_minor": 2
}
