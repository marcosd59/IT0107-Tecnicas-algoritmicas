{
 "cells": [
  {
   "cell_type": "code",
   "execution_count": 1,
   "metadata": {},
   "outputs": [],
   "source": [
    "import math"
   ]
  },
  {
   "cell_type": "code",
   "execution_count": 2,
   "metadata": {},
   "outputs": [],
   "source": [
    "c = [1, 3, 7]\n",
    "d = 3\n",
    "M = 77\n",
    "bestNumCoins = []"
   ]
  },
  {
   "cell_type": "code",
   "execution_count": 3,
   "metadata": {},
   "outputs": [],
   "source": [
    "def DPChange(M, c, d):\n",
    "\n",
    "    for a in range(M+1):\n",
    "        bestNumCoins.append(0)\n",
    "    bestNumCoins[0] = 0\n",
    "\n",
    "    for m in range(1, M+1, 1):\n",
    "        bestNumCoins[m] = math.inf\n",
    "        for i in range(d):\n",
    "            if m >= c[i]:\n",
    "                if bestNumCoins[m-c[i]] + 1 < bestNumCoins[m]:\n",
    "                    bestNumCoins[m] = bestNumCoins[m-c[i]] + 1\n",
    "    return bestNumCoins[M]"
   ]
  },
  {
   "cell_type": "code",
   "execution_count": 4,
   "metadata": {},
   "outputs": [
    {
     "name": "stdout",
     "output_type": "stream",
     "text": [
      "Tu cambio es: 11\n"
     ]
    }
   ],
   "source": [
    "print(\"Tu cambio es:\", DPChange(M, c, d))"
   ]
  }
 ],
 "metadata": {
  "kernelspec": {
   "display_name": "Python 3.9.2 64-bit",
   "language": "python",
   "name": "python3"
  },
  "language_info": {
   "codemirror_mode": {
    "name": "ipython",
    "version": 3
   },
   "file_extension": ".py",
   "mimetype": "text/x-python",
   "name": "python",
   "nbconvert_exporter": "python",
   "pygments_lexer": "ipython3",
   "version": "3.9.2"
  },
  "orig_nbformat": 4,
  "vscode": {
   "interpreter": {
    "hash": "00ff9db9870ec9f1423bc268ca660a602054e7415f81d5798dee84cbde947ffd"
   }
  }
 },
 "nbformat": 4,
 "nbformat_minor": 2
}
